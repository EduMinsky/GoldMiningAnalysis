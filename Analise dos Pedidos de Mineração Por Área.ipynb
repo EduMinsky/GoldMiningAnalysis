{
 "cells": [
  {
   "cell_type": "code",
   "execution_count": null,
   "id": "53a7a233",
   "metadata": {
    "ExecuteTime": {
     "end_time": "2023-06-19T13:38:19.022759Z",
     "start_time": "2023-06-19T13:38:03.976833Z"
    }
   },
   "outputs": [],
   "source": [
    "#Lendo os dataframes\n",
    "import pandas as pd\n",
    "path = 'C:\\\\Users\\\\User\\\\Dropbox (CPI)\\\\EduardoMinsky\\\\Dados_Mineracao\\\\Dados Tabulares\\\\Dados_Relacionados\\\\'\n",
    "#Pegando processos apenas do Pará\n",
    "mun = pd.read_csv(path+'ProcessoMunicipio.csv')\n",
    "substancia = pd.read_csv(path+'ProcessoSubstancia.csv')\n",
    "eventos = pd.read_csv(path+'ProcessoEvento.csv')\n",
    "processos = pd.read_csv(path+'Processo.csv')\n",
    "pessoa = pd.read_csv(path+'ProcessoPessoa.csv')"
   ]
  },
  {
   "cell_type": "markdown",
   "id": "856f5296",
   "metadata": {},
   "source": [
    "## Preparando os DataFrames para 333 para as analises de área\n"
   ]
  },
  {
   "cell_type": "code",
   "execution_count": null,
   "id": "506b3223",
   "metadata": {
    "ExecuteTime": {
     "end_time": "2023-06-19T13:38:22.943734Z",
     "start_time": "2023-06-19T13:38:22.071949Z"
    },
    "scrolled": true
   },
   "outputs": [],
   "source": [
    "#Pegando para ouro\n",
    "ouro = substancia.query('Substancia.str.contains(\"OURO\")',engine = 'python')\n",
    "#Pegando eventos 333,1402,513\n",
    "eventos333 = eventos.query('IDEvento == 333')\n",
    "#Filtrando os processos ativos:\n",
    "prceossos_ativos = processos.query('BTAtivo==\"S\"')\n",
    "#Merge entre processos ativos e processos de evento 333:\n",
    "processos333_ativos = prceossos_ativos.merge(eventos333,how='inner',on='DSProcesso')\n",
    "#Transformando o campo de data do evento333 em datetime\n",
    "processos333_ativos['Data'] = pd.to_datetime(processos333_ativos.DTEvento).dt.year\n",
    "#Filtrando os processos 333 ativos com a base de ouro:\n",
    "processos333_ativos_ouro = processos333_ativos[processos333_ativos['DSProcesso'].isin(ouro.DSProcesso)]\n",
    "#Retirando duplicados:\n",
    "processos333_ativos_ouro.drop_duplicates(subset='DSProcesso' ,keep ='last',inplace=True)\n",
    "\n",
    "#Pegando os estados para esses processo ativos de ouro\n",
    "mun_ouro_ativo_333 = mun[mun['DSProcesso'].isin(processos333_ativos_ouro['DSProcesso'])]\n",
    "#Agrupando os estados por Regiao (Norte, sul, Sudeste,CentroOeste, Nordeste)\n",
    "sul =['RS','SC','PR']\n",
    "sudeste = ['SP','MG','RJ','ES']\n",
    "centrooeste =['MS','MT','GO','DF']\n",
    "nordeste = ['BA','PI','MA','CE','RN','PB','PE','AL','SE']\n",
    "norte = ['AC','RO','AM','RR','PA','TO','AP']\n",
    "mun_ouro_ativo_333['Regiao'] = ['Sul' if x in sul else 'Sudeste' if x in sudeste else 'Centro_Oeste' if x in centrooeste else 'Nordeste' if x in nordeste else 'Norte' if x in norte else 'SemEstado' for x in mun_ouro_ativo_333['UF']]\n",
    "\n",
    "#Dando Join com o df processos333_ativos_ouro para plotar o ano com regiao do brasil\n",
    "join_333_regiao = processos333_ativos_ouro.merge(mun_ouro_ativo_333,on='DSProcesso',how='inner')\n",
    "join_333_regiao.drop_duplicates(subset='DSProcesso' ,keep ='last',inplace=True)\n",
    "\n",
    "#Transformando a coluna de Area para número!\n",
    "import numpy as np\n",
    "join_333_regiao['QTAreaHA'] = join_333_regiao['QTAreaHA'].str.replace(',', '.').astype(float)\n",
    "join_333_regiao"
   ]
  },
  {
   "cell_type": "markdown",
   "id": "b4681a66",
   "metadata": {},
   "source": [
    "## Plotando agora os mesmos gráficos mas para área "
   ]
  },
  {
   "cell_type": "code",
   "execution_count": null,
   "id": "2ce5765c",
   "metadata": {
    "ExecuteTime": {
     "end_time": "2023-05-29T16:24:54.182896Z",
     "start_time": "2023-05-29T16:24:53.711237Z"
    }
   },
   "outputs": [],
   "source": [
    "import seaborn as sns\n",
    "import  matplotlib.pyplot as plt\n",
    "%matplotlib inline\n",
    "sns.set(rc={\"figure.figsize\":(17, 5)})\n",
    "\n",
    "#Agrupando os valores de area por ano e somando\n",
    "area_pedida_333 = join_333_regiao.groupby('Data').sum()\n",
    "\n",
    "y = sns.barplot(\n",
    "    data=area_pedida_333, x=area_pedida_333.index, y=\"QTAreaHA\", capsize=.4, errcolor=\".5\",\n",
    "    linewidth=3, edgecolor=\".5\", facecolor=(0, 0, 0, 0)\n",
    ")\n",
    "y.set(xlabel='Data', ylabel='Soma de Área')\n",
    "\n",
    "\n",
    "\n",
    "plt.show()"
   ]
  },
  {
   "cell_type": "code",
   "execution_count": null,
   "id": "70943eb6",
   "metadata": {},
   "outputs": [],
   "source": [
    "#DF Para figura 2\n",
    "area_pedida_333.groupby('Data',as_index=True).QTAreaHA.sum().to_frame().reset_index().to_csv('Figura_2.csv')"
   ]
  },
  {
   "cell_type": "code",
   "execution_count": null,
   "id": "8ecf38a5",
   "metadata": {},
   "outputs": [],
   "source": [
    "#DF Para figura 8\n",
    "join_333_regiao.query('Data >= 2000').groupby('Data',as_index=False).QTAreaHA.sum().to_csv('Figura_8.csv')"
   ]
  },
  {
   "cell_type": "markdown",
   "id": "e0a5f5fb",
   "metadata": {},
   "source": [
    "# PLOTAR SEPARADO PARA REGIAO NORTE E CENTRO OESTE"
   ]
  },
  {
   "cell_type": "code",
   "execution_count": null,
   "id": "ce3a1d72",
   "metadata": {},
   "outputs": [],
   "source": [
    "#Para Regiao Norte"
   ]
  },
  {
   "cell_type": "code",
   "execution_count": null,
   "id": "59502d9b",
   "metadata": {},
   "outputs": [],
   "source": [
    "import matplotlib\n",
    "import matplotlib.pyplot as plt\n",
    "import seaborn as sns\n",
    "\n",
    "\n",
    "data_regiao_333= join_333_regiao.query('Data >= 2000').query('Regiao == \"Norte\" ').groupby(['Data','Regiao','UF'], as_index=False).sum()\n",
    "\n",
    "palette_norte = {'PA':'black','RO':'b','AM':'g','AP':'y','RR':'orange','TO':'brown'}\n",
    "matplotlib.rc_file_defaults()\n",
    "ax1 = sns.set_style(style=None, rc=None )\n",
    "\n",
    "\n",
    "fig, ax1 = plt.subplots(figsize=(15,5))\n",
    "sns.pointplot(data=data_regiao_333.groupby(['Data'],as_index=False)['QTAreaHA'].sum(), x=\"Data\", y=\"QTAreaHA\",ax=ax1,\n",
    "             color ='r')\n",
    "\n",
    "\n",
    "ax2 = ax1.twinx()\n",
    "sns.barplot(data=data_regiao_333, x=\"Data\", y=\"QTAreaHA\",hue='UF',dodge=True,palette = palette_norte,ax=ax1)\n",
    "ax2.axhline(data_regiao_333.query('Data >= 2000')['QTAreaHA'].mean(),color ='cyan')\n",
    "\n",
    "ax2.set(yticklabels=[])\n",
    "plt.show()"
   ]
  },
  {
   "cell_type": "code",
   "execution_count": null,
   "id": "200b076d",
   "metadata": {},
   "outputs": [],
   "source": [
    "#Df para figura 9\n",
    "a = data_regiao_333.groupby(['Data'],as_index=False)['QTAreaHA'].sum()\n",
    "\n",
    "b = data_regiao_333.groupby(['Data','UF'],as_index=False)['QTAreaHA'].sum()\n",
    "a.to_csv('Figura9_Linha.csv')\n",
    "b.to_csv('Figura9_Barplot.csv')"
   ]
  },
  {
   "cell_type": "code",
   "execution_count": null,
   "id": "a5e6d611",
   "metadata": {},
   "outputs": [],
   "source": [
    "data_regiao_333.groupby(['UF'])['QTAreaHA'].sum().sort_values(ascending=True)\n",
    "#data_regiao_333.QTAreaHA.sum()"
   ]
  },
  {
   "cell_type": "code",
   "execution_count": null,
   "id": "bb4e1d09",
   "metadata": {},
   "outputs": [],
   "source": [
    "#Para Regiao Centro Oeste\n",
    "data_regiao_333= join_333_regiao.query('Data >= 2000').query('Regiao == \"Centro_Oeste\" ').groupby(['Data','Regiao','UF'], as_index=False).sum()\n",
    "data_regiao_333.groupby(['UF'])['QTAreaHA'].sum().sort_values(ascending=True)\n",
    "#data_regiao_333.QTAreaHA.sum()"
   ]
  },
  {
   "cell_type": "code",
   "execution_count": null,
   "id": "eae52625",
   "metadata": {},
   "outputs": [],
   "source": [
    "import matplotlib\n",
    "import matplotlib.pyplot as plt\n",
    "import seaborn as sns\n",
    "\n",
    "\n",
    "data_regiao_333= join_333_regiao.query('Data >= 2000').query('Regiao == \"Centro_Oeste\" ').groupby(['Data','Regiao','UF'], as_index=False).sum()\n",
    "\n",
    "palette_norte = {'MT':'black','GO':'b','MS':'g'}\n",
    "matplotlib.rc_file_defaults()\n",
    "ax1 = sns.set_style(style=None, rc=None )\n",
    "\n",
    "\n",
    "fig, ax1 = plt.subplots(figsize=(15,5))\n",
    "sns.pointplot(data=data_regiao_333.groupby(['Data'],as_index=False)['QTAreaHA'].sum(), x=\"Data\", y=\"QTAreaHA\",ax=ax1,\n",
    "             color ='r')\n",
    "\n",
    "\n",
    "ax2 = ax1.twinx()\n",
    "sns.barplot(data=data_regiao_333, x=\"Data\", y=\"QTAreaHA\",hue='UF',dodge=True,palette = palette_norte,ax=ax1)\n",
    "\n",
    "\n",
    "ax2.set(yticklabels=[])\n",
    "plt.show()"
   ]
  },
  {
   "cell_type": "code",
   "execution_count": null,
   "id": "52be9720",
   "metadata": {},
   "outputs": [],
   "source": [
    "#Figura 10\n",
    "c = data_regiao_333.groupby(['Data'],as_index=False)['QTAreaHA'].sum()\n",
    "\n",
    "d = data_regiao_333.groupby(['Data','UF'],as_index=False)['QTAreaHA'].sum()\n",
    "c.to_csv('Figura10_Linha.csv')\n",
    "d.to_csv('Figura10_Barplot.csv')"
   ]
  },
  {
   "cell_type": "markdown",
   "id": "2b7c539d",
   "metadata": {},
   "source": [
    "## Plotando a área por ano mas quebrando para Regiao e um plot de Regiao quebrando por UF"
   ]
  },
  {
   "cell_type": "markdown",
   "id": "e2d1f5db",
   "metadata": {},
   "source": [
    "## Preparando os dados para analisar area 513"
   ]
  },
  {
   "cell_type": "code",
   "execution_count": null,
   "id": "26afed70",
   "metadata": {
    "ExecuteTime": {
     "end_time": "2023-06-19T13:38:32.226704Z",
     "start_time": "2023-06-19T13:38:31.542950Z"
    }
   },
   "outputs": [],
   "source": [
    "#Pegando para ouro\n",
    "ouro = substancia.query('Substancia.str.contains(\"OURO\")',engine = 'python')\n",
    "#Pegando eventos 333,1402,513\n",
    "eventos513 = eventos.query('IDEvento == 513')\n",
    "#Filtrando os processos ativos:\n",
    "prceossos_ativos = processos.query('BTAtivo==\"S\"')\n",
    "#Merge entre processos ativos e processos de evento 333:\n",
    "processos513_ativos = prceossos_ativos.merge(eventos513,how='inner',on='DSProcesso')\n",
    "#Transformando o campo de data do evento513 em datetime\n",
    "processos513_ativos['Data'] = pd.to_datetime(processos513_ativos.DTEvento).dt.year\n",
    "#Filtrando os processos 513 ativos com a base de ouro:\n",
    "processos513_ativos_ouro = processos513_ativos[processos513_ativos['DSProcesso'].isin(ouro.DSProcesso)]\n",
    "#Retirando duplicados:\n",
    "processos513_ativos_ouro.drop_duplicates(subset='DSProcesso' ,keep ='last',inplace=True)\n",
    "\n",
    "#Pegando os estados para esses processo ativos de ouro\n",
    "mun_ouro_ativo_513 = mun[mun['DSProcesso'].isin(processos513_ativos_ouro['DSProcesso'])]\n",
    "#Agrupando os estados por Regiao (Norte, sul, Sudeste,CentroOeste, Nordeste)\n",
    "sul =['RS','SC','PR']\n",
    "sudeste = ['SP','MG','RJ','ES']\n",
    "centrooeste =['MS','MT','GO','DF']\n",
    "nordeste = ['BA','PI','MA','CE','RN','PB','PE','AL','SE']\n",
    "norte = ['AC','RO','AM','RR','PA','TO','AP']\n",
    "mun_ouro_ativo_513['Regiao'] = ['Sul' if x in sul else 'Sudeste' if x in sudeste else 'Centro_Oeste' if x in centrooeste else 'Nordeste' if x in nordeste else 'Norte' if x in norte else 'SemEstado' for x in mun_ouro_ativo_513['UF']]\n",
    "\n",
    "#Dando Join com o df processos333_ativos_ouro para plotar o ano com regiao do brasil\n",
    "join_513_regiao = processos513_ativos_ouro.merge(mun_ouro_ativo_513,on='DSProcesso',how='inner')\n",
    "join_513_regiao.drop_duplicates(subset='DSProcesso' ,keep ='last',inplace=True)\n",
    "\n",
    "#Transformando a coluna de Area para número!\n",
    "import numpy as np\n",
    "join_513_regiao['QTAreaHA'] = join_513_regiao['QTAreaHA'].str.replace(',', '.').astype(float)\n",
    "full_join = join_513_regiao.merge(join_333_regiao,how='inner',on='DSProcesso')\n",
    "full_join"
   ]
  },
  {
   "cell_type": "code",
   "execution_count": null,
   "id": "878eceb3",
   "metadata": {
    "ExecuteTime": {
     "end_time": "2023-06-19T13:38:44.075920Z",
     "start_time": "2023-06-19T13:38:42.876260Z"
    }
   },
   "outputs": [],
   "source": [
    "import seaborn as sns\n",
    "import  matplotlib.pyplot as plt\n",
    "%matplotlib inline\n",
    "sns.set(rc={\"figure.figsize\":(17, 5)})\n",
    "\n",
    "#Agrupando os valores de area por ano e somando\n",
    "area_pedida_513 = full_join.query('Data_x >= 2000').groupby('Data_x').sum()\n",
    "\n",
    "y = sns.barplot(\n",
    "    data=area_pedida_513, x=area_pedida_513.index, y=\"QTAreaHA_x\", capsize=.4, errcolor=\".5\",\n",
    "    linewidth=3, edgecolor=\".5\", facecolor=(0, 0, 0, 0)\n",
    ")\n",
    "y.axhline(area_pedida_513['QTAreaHA_x'].mean(),color ='r')\n",
    "y.set(xlabel='Data', ylabel='Soma de Área')\n",
    "plt.show()"
   ]
  },
  {
   "cell_type": "code",
   "execution_count": null,
   "id": "57e81db1",
   "metadata": {},
   "outputs": [],
   "source": [
    "full_join.query('Data_x >= 2000').QTAreaHA_x.sum()"
   ]
  },
  {
   "cell_type": "code",
   "execution_count": null,
   "id": "6e3321e0",
   "metadata": {},
   "outputs": [],
   "source": [
    "#Para Regiao Norte\n",
    "data_regiao_513= full_join.query('Data_x >= 2000').query('Regiao_x == \"Norte\" ').groupby(['Data_x','Regiao_x','UF_x'], as_index=False).sum()\n",
    "data_regiao_513.groupby(['UF_x'])['QTAreaHA_x'].sum().sort_values(ascending=True)\n",
    "#data_regiao_513['QTAreaHA_x'].sum()\n",
    "data_regiao_513.query('UF_x==\"PA\"').groupby(['Data_x']).QTAreaHA_x.sum().sort_values(ascending=True)"
   ]
  },
  {
   "cell_type": "code",
   "execution_count": null,
   "id": "fd695800",
   "metadata": {},
   "outputs": [],
   "source": [
    "import matplotlib\n",
    "import matplotlib.pyplot as plt\n",
    "import seaborn as sns\n",
    "\n",
    "\n",
    "data_regiao_513= full_join.query('Data_x >= 2000').query('Regiao_x == \"Norte\" ').groupby(['Data_x','Regiao_x','UF_x'], as_index=False).sum()\n",
    "\n",
    "palette_norte = {'PA':'black','RO':'b','AM':'g','AP':'yellow','RR':'orange','TO':'brown'}\n",
    "matplotlib.rc_file_defaults()\n",
    "ax1 = sns.set_style(style=None, rc=None )\n",
    "\n",
    "\n",
    "fig, ax1 = plt.subplots(figsize=(15,5))\n",
    "sns.pointplot(data=data_regiao_513.groupby(['Data_x'],as_index=False)['QTAreaHA_x'].sum(), x=\"Data_x\", y=\"QTAreaHA_x\",ax=ax1,\n",
    "             color ='r')\n",
    "\n",
    "\n",
    "ax2 = ax1.twinx()\n",
    "sns.barplot(data=data_regiao_513, x=\"Data_x\", y=\"QTAreaHA_x\",hue='UF_x',dodge=True,palette = palette_norte,ax=ax1)\n",
    "\n",
    "\n",
    "ax2.set(yticklabels=[])\n",
    "sns.move_legend(ax1, \"upper right\", title='UF')\n",
    "plt.show()"
   ]
  },
  {
   "cell_type": "code",
   "execution_count": null,
   "id": "8f0d96db",
   "metadata": {},
   "outputs": [],
   "source": [
    "#Para Regiao Centro Oeste\n",
    "\n",
    "data_regiao_513= full_join.query('Data_x >= 2000').query('Regiao_x == \"Centro_Oeste\" ').groupby(['Data_x','Regiao_x','UF_x'], as_index=False).sum()\n",
    "data_regiao_513.groupby(['UF_x'])['QTAreaHA_x'].sum().sort_values(ascending=True)\n",
    "#data_regiao_513['QTAreaHA_x'].sum()\n",
    "data_regiao_513.query('UF_x==\"MT\"').groupby(['Data_x']).QTAreaHA_x.sum().sort_values(ascending=True)"
   ]
  },
  {
   "cell_type": "code",
   "execution_count": null,
   "id": "1a76fc04",
   "metadata": {},
   "outputs": [],
   "source": [
    "import matplotlib\n",
    "import matplotlib.pyplot as plt\n",
    "import seaborn as sns\n",
    "\n",
    "\n",
    "data_regiao_513= full_join.query('Data_x >= 2000').query('Regiao_x == \"Centro_Oeste\" ').groupby(['Data_x','Regiao_x','UF_x'], as_index=False).sum()\n",
    "\n",
    "palette_norte = {'MT':'black','GO':'blue'}\n",
    "matplotlib.rc_file_defaults()\n",
    "ax1 = sns.set_style(style=None, rc=None )\n",
    "\n",
    "\n",
    "fig, ax1 = plt.subplots(figsize=(15,5))\n",
    "sns.pointplot(data=data_regiao_513.groupby(['Data_x'],as_index=False)['QTAreaHA_x'].sum(), x=\"Data_x\", y=\"QTAreaHA_x\",ax=ax1,\n",
    "             color ='r')\n",
    "\n",
    "\n",
    "ax2 = ax1.twinx()\n",
    "sns.barplot(data=data_regiao_513, x=\"Data_x\", y=\"QTAreaHA_x\",hue='UF_x',dodge=True,palette = palette_norte,ax=ax1)\n",
    "\n",
    "\n",
    "ax2.set(yticklabels=[])\n",
    "sns.move_legend(ax1, \"upper right\", title='UF')\n",
    "plt.show()"
   ]
  },
  {
   "cell_type": "code",
   "execution_count": null,
   "id": "b4f734ce",
   "metadata": {},
   "outputs": [],
   "source": [
    "import seaborn as sns\n",
    "import matplotlib\n",
    "import matplotlib.pyplot as plt\n",
    "import numpy as np\n",
    "matplotlib.rc_file_defaults()\n",
    "ax1 = sns.set_style(style=None, rc=None )\n",
    "sns.set(rc={\"figure.figsize\":(17, 5)})\n",
    "#Analisando a Relação de quantidade de área permitida por Pessoa\n",
    "pessoa_fisica = pessoa.query('Pessoa==\"F\"')\n",
    "pessoa_juridica = pessoa.query('Pessoa==\"J\"')\n",
    "p_fisica_only = pessoa_fisica[~pessoa_fisica['DSProcesso'].isin(pessoa_juridica['DSProcesso'])]\n",
    "juridico_certo = pessoa[ ~ pessoa['DSProcesso'].isin(p_fisica_only['DSProcesso'])]\n",
    "#Criando dummys\n",
    "p_fisica_only['Pessoas'] = 'Pessoa Fisica'\n",
    "juridico_certo['Pessoas'] = 'Pessoa Juridica'\n",
    "p_fisica_only.drop_duplicates('DSProcesso',keep = 'first',inplace=True)\n",
    "juridico_certo.drop_duplicates('DSProcesso',keep = 'first',inplace=True)\n",
    "pessoas_certo = pd.concat([p_fisica_only,juridico_certo])\n",
    "\n",
    "b = full_join.query('Data_x >=2000').merge(pessoas_certo,how='inner',on='DSProcesso')\n",
    "\n",
    "b_pessoa = b.query('Data_x >= 2000').groupby(['Data_x','Pessoas','UF_x'], as_index=False)['QTAreaHA_x'].sum()\n",
    "data_regiao_513= full_join.query('Data_x >= 2000').groupby(['Data_x','Regiao_x','UF_x'], as_index=False).sum()\n",
    "\n",
    "fig, ax1 = plt.subplots(figsize=(15,5))\n",
    "sns.pointplot(data=data_regiao_513.groupby(['Data_x'],as_index=False)['QTAreaHA_x'].sum(), x=\"Data_x\", y=\"QTAreaHA_x\",ax=ax1,\n",
    "             color ='r')\n",
    "sns.barplot(data=b_pessoa.groupby(['Data_x','Pessoas'],as_index=False).QTAreaHA_x.sum(), x=\"Data_x\", y=\"QTAreaHA_x\",hue='Pessoas',dodge=True,ax=ax1)\n",
    "\n",
    "plt.show()"
   ]
  },
  {
   "cell_type": "code",
   "execution_count": null,
   "id": "c6d5e2b4",
   "metadata": {},
   "outputs": [],
   "source": [
    "#Separando as PJs em cooperativas e firmas individuais\n",
    "contem_coop=[]\n",
    "não_contem=[]\n",
    "for i in range(len(b.query('Pessoas==\"Pessoa Juridica\"')['DSProcesso'].to_list())):\n",
    "    num_proc = b.query('Pessoas==\"Pessoa Juridica\"')['DSProcesso'].to_list()[i]\n",
    "    proc_filter = pessoa[pessoa['DSProcesso']==num_proc]\n",
    "    nome_Requerente=proc_filter[proc_filter['TipoRelacao']==\"Titular\\Requerente\"]['Pessoa_NOME'].to_list()[0].lower()\n",
    "    if 'coo' in nome_Requerente:\n",
    "        contem_coop.append(num_proc)\n",
    "    else: não_contem.append(num_proc)\n",
    "    \n",
    "    \n",
    "    \n",
    "    \n"
   ]
  },
  {
   "cell_type": "code",
   "execution_count": null,
   "id": "ed01e5e3",
   "metadata": {},
   "outputs": [],
   "source": [
    "#Tratando esses dados criados e unindo ao df principal\n",
    "cooperativa = b[b['DSProcesso'].isin(contem_coop)]\n",
    "cooperativa['Tipo'] = 'Pessoa Juridica - Cooperativa'\n",
    "\n",
    "\n",
    "firma_individual = b[b['DSProcesso'].isin(não_contem)]\n",
    "firma_individual['Tipo'] = 'Pessoa Juridica - Firma individual'\n",
    "\n",
    "cooperativa_firma = pd.concat([cooperativa,firma_individual])\n",
    "cooperativa_firma\n",
    "fisica_true = b[~b['DSProcesso'].isin(cooperativa_firma['DSProcesso'])]\n",
    "fisica_true['Tipo'] = 'Pessoa Fisica'\n",
    "\n",
    "df_fisica_coop_individual = pd.concat([fisica_true,cooperativa_firma])\n"
   ]
  },
  {
   "cell_type": "code",
   "execution_count": null,
   "id": "2895b82e",
   "metadata": {},
   "outputs": [],
   "source": [
    "#Plotando separando entre essas 3 classes de pessoas\n",
    "df_por_tipo = df_fisica_coop_individual.query('Data_x >= 2000').groupby(['Data_x','Tipo','UF_x'], as_index=False)['QTAreaHA_x'].sum()\n",
    "\n",
    "data_regiao_513= full_join.query('Data_x >= 2000').groupby(['Data_x','Regiao_x','UF_x'], as_index=False).sum()\n",
    "\n",
    "\n",
    "fig, ax1 = plt.subplots(figsize=(15,5))\n",
    "sns.pointplot(data=data_regiao_513.groupby(['Data_x'],as_index=False)['QTAreaHA_x'].sum(), x=\"Data_x\", y=\"QTAreaHA_x\",ax=ax1,\n",
    "             color ='r')\n",
    "sns.barplot(data=df_por_tipo.groupby(['Data_x','Tipo'],as_index=False).QTAreaHA_x.sum(), x=\"Data_x\", y=\"QTAreaHA_x\",hue='Tipo',dodge=True,ax=ax1)\n",
    "\n",
    "plt.show()"
   ]
  },
  {
   "cell_type": "code",
   "execution_count": null,
   "id": "b49bb695",
   "metadata": {
    "scrolled": true
   },
   "outputs": [],
   "source": [
    "juridico_indiv = df_por_tipo.groupby(['Data_x','Tipo'],as_index=False).QTAreaHA_x.sum().query('Tipo==\"Pessoa Juridica - Firma individual\"').QTAreaHA_x.sum()\n",
    "juridico_coop =  df_por_tipo.groupby(['Data_x','Tipo'],as_index=False).QTAreaHA_x.sum().query('Tipo==\"Pessoa Juridica - Cooperativa\"').QTAreaHA_x.sum()\n",
    "fisica = df_por_tipo.groupby(['Data_x','Tipo'],as_index=False).QTAreaHA_x.sum().query('Tipo==\"Pessoa Fisica\"').QTAreaHA_x.sum()\n",
    "print('Pessoa Juridica Individual:')\n",
    "print(juridico_indiv)\n",
    "print(\"################################\")\n",
    "print('Pessoa Juridica Cooperativa')\n",
    "print(juridico_coop)\n",
    "print(\"################################\")\n",
    "print('Pessoa Fisica')\n",
    "print(fisica)"
   ]
  },
  {
   "cell_type": "code",
   "execution_count": null,
   "id": "a6429396",
   "metadata": {},
   "outputs": [],
   "source": [
    "df_fisica_coop_individual.query('Data_x >= 2000')\n",
    "\n",
    "para = df_fisica_coop_individual.query('Data_x >= 2000').query('UF_x==\"PA\"')\n",
    "mt = df_fisica_coop_individual.query('Data_x >= 2000').query('UF_x==\"MT\"')\n",
    "np.quantile(mt['QTAreaHA_x'],0.90)#511.6260000000003\n",
    "top10_mt = mt[mt['QTAreaHA_x'] > 511.6260000000003]\n",
    "bottom_90mt = mt[mt['QTAreaHA_x'] < 511.6260000000003]\n",
    "top10_mt\n",
    "bottom_90mt\n",
    "\n",
    "\n",
    "bottom_90mt.groupby('Tipo').Tipo.value_counts()"
   ]
  },
  {
   "cell_type": "code",
   "execution_count": null,
   "id": "f4c25ff1",
   "metadata": {},
   "outputs": [],
   "source": [
    "np.quantile(para['QTAreaHA_x'],0.90)#100.15900000000002\n",
    "\n",
    "top10_pa = para[para['QTAreaHA_x'] > 100.15900000000002]\n",
    "bottom_90pa = para[para['QTAreaHA_x'] < 100.15900000000002]\n",
    "bottom_90pa.Tipo.value_counts()"
   ]
  },
  {
   "cell_type": "code",
   "execution_count": null,
   "id": "1385d673",
   "metadata": {},
   "outputs": [],
   "source": [
    "df_por_tipo.groupby(['Data_x','Tipo'],as_index=False).QTAreaHA_x.sum().query('Data_x==2020 or Data_x==2021').groupby(['Data_x','Tipo'],as_index=False).QTAreaHA_x.sum()"
   ]
  }
 ],
 "metadata": {
  "kernelspec": {
   "display_name": "Python 3 (ipykernel)",
   "language": "python",
   "name": "python3"
  },
  "language_info": {
   "codemirror_mode": {
    "name": "ipython",
    "version": 3
   },
   "file_extension": ".py",
   "mimetype": "text/x-python",
   "name": "python",
   "nbconvert_exporter": "python",
   "pygments_lexer": "ipython3",
   "version": "3.9.16"
  }
 },
 "nbformat": 4,
 "nbformat_minor": 5
}
