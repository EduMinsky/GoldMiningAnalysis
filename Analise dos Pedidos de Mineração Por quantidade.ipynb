{
 "cells": [
  {
   "cell_type": "code",
   "execution_count": 1,
   "id": "62246d3e",
   "metadata": {
    "ExecuteTime": {
     "end_time": "2023-06-19T14:00:23.151476Z",
     "start_time": "2023-06-19T14:00:08.101676Z"
    },
    "scrolled": true
   },
   "outputs": [],
   "source": [
    "#Lendo os dataframes\n",
    "import pandas as pd\n",
    "path = 'C:\\\\Users\\\\eduar\\\\Dropbox (CPI)\\\\EduardoMinsky\\\\Dados_Mineracao\\\\Dados Tabulares\\\\Dados_Relacionados\\\\'\n",
    "#Pegando processos apenas do Pará\n",
    "mun = pd.read_csv(path+'ProcessoMunicipio.csv')\n",
    "substancia = pd.read_csv(path+'ProcessoSubstancia.csv')\n",
    "eventos = pd.read_csv(path+'ProcessoEvento.csv')\n",
    "processos = pd.read_csv(path+'Processo.csv')\n",
    "pessoa = pd.read_csv(path+'ProcessoPessoa.csv')\n"
   ]
  },
  {
   "cell_type": "markdown",
   "id": "d4208625",
   "metadata": {},
   "source": [
    "## Preparando os DataFrames para as analises de quantos processos foram pedidos( evento 333)\n"
   ]
  },
  {
   "cell_type": "code",
   "execution_count": 2,
   "id": "1f46af40",
   "metadata": {
    "ExecuteTime": {
     "end_time": "2023-06-19T14:00:23.909719Z",
     "start_time": "2023-06-19T14:00:23.153472Z"
    },
    "code_folding": [],
    "scrolled": false
   },
   "outputs": [
    {
     "name": "stderr",
     "output_type": "stream",
     "text": [
      "C:\\Users\\eduar\\AppData\\Local\\Temp\\ipykernel_8432\\897760977.py:13: SettingWithCopyWarning: \n",
      "A value is trying to be set on a copy of a slice from a DataFrame.\n",
      "Try using .loc[row_indexer,col_indexer] = value instead\n",
      "\n",
      "See the caveats in the documentation: https://pandas.pydata.org/pandas-docs/stable/user_guide/indexing.html#returning-a-view-versus-a-copy\n",
      "  eventos333_ativos_ouro['Data'] = pd.to_datetime(eventos333_ativos_ouro.DTEvento).dt.year\n",
      "C:\\Users\\eduar\\AppData\\Local\\Temp\\ipykernel_8432\\897760977.py:15: SettingWithCopyWarning: \n",
      "A value is trying to be set on a copy of a slice from a DataFrame\n",
      "\n",
      "See the caveats in the documentation: https://pandas.pydata.org/pandas-docs/stable/user_guide/indexing.html#returning-a-view-versus-a-copy\n",
      "  eventos333_ativos_ouro.drop_duplicates(subset='DSProcesso' ,keep ='last',inplace=True)\n",
      "C:\\Users\\eduar\\AppData\\Local\\Temp\\ipykernel_8432\\897760977.py:26: SettingWithCopyWarning: \n",
      "A value is trying to be set on a copy of a slice from a DataFrame.\n",
      "Try using .loc[row_indexer,col_indexer] = value instead\n",
      "\n",
      "See the caveats in the documentation: https://pandas.pydata.org/pandas-docs/stable/user_guide/indexing.html#returning-a-view-versus-a-copy\n",
      "  mun_ouro_ativo_333['Regiao'] = ['Sul' if x in sul else 'Sudeste' if x in sudeste else 'Centro_Oeste' if x in centrooeste else 'Nordeste' if x in nordeste else 'Norte' if x in norte else 'SemEstado' for x in mun_ouro_ativo_333['UF']]\n"
     ]
    },
    {
     "data": {
      "text/html": [
       "<div>\n",
       "<style scoped>\n",
       "    .dataframe tbody tr th:only-of-type {\n",
       "        vertical-align: middle;\n",
       "    }\n",
       "\n",
       "    .dataframe tbody tr th {\n",
       "        vertical-align: top;\n",
       "    }\n",
       "\n",
       "    .dataframe thead th {\n",
       "        text-align: right;\n",
       "    }\n",
       "</style>\n",
       "<table border=\"1\" class=\"dataframe\">\n",
       "  <thead>\n",
       "    <tr style=\"text-align: right;\">\n",
       "      <th></th>\n",
       "      <th>Unnamed: 0_x</th>\n",
       "      <th>DSProcesso</th>\n",
       "      <th>IDEvento</th>\n",
       "      <th>DTEvento</th>\n",
       "      <th>Evento_</th>\n",
       "      <th>Data</th>\n",
       "      <th>Unnamed: 0_y</th>\n",
       "      <th>IDMunicipio</th>\n",
       "      <th>Municipios</th>\n",
       "      <th>UF</th>\n",
       "      <th>Regiao</th>\n",
       "    </tr>\n",
       "  </thead>\n",
       "  <tbody>\n",
       "    <tr>\n",
       "      <th>2</th>\n",
       "      <td>71784</td>\n",
       "      <td>650.000/2003</td>\n",
       "      <td>333</td>\n",
       "      <td>2003-11-04</td>\n",
       "      <td>REQ PLG/REQUERIMENTO LAVRA GARIMPEIRA PROTOCOL...</td>\n",
       "      <td>2003</td>\n",
       "      <td>5910</td>\n",
       "      <td>1503606</td>\n",
       "      <td>ITAITUBA</td>\n",
       "      <td>PA</td>\n",
       "      <td>Norte</td>\n",
       "    </tr>\n",
       "    <tr>\n",
       "      <th>4</th>\n",
       "      <td>71808</td>\n",
       "      <td>650.001/2000</td>\n",
       "      <td>333</td>\n",
       "      <td>2000-02-07</td>\n",
       "      <td>REQ PLG/REQUERIMENTO LAVRA GARIMPEIRA PROTOCOL...</td>\n",
       "      <td>2000</td>\n",
       "      <td>5913</td>\n",
       "      <td>1503606</td>\n",
       "      <td>ITAITUBA</td>\n",
       "      <td>PA</td>\n",
       "      <td>Norte</td>\n",
       "    </tr>\n",
       "    <tr>\n",
       "      <th>5</th>\n",
       "      <td>71811</td>\n",
       "      <td>650.001/2003</td>\n",
       "      <td>333</td>\n",
       "      <td>2003-11-04</td>\n",
       "      <td>REQ PLG/REQUERIMENTO LAVRA GARIMPEIRA PROTOCOL...</td>\n",
       "      <td>2003</td>\n",
       "      <td>5914</td>\n",
       "      <td>1503606</td>\n",
       "      <td>ITAITUBA</td>\n",
       "      <td>PA</td>\n",
       "      <td>Norte</td>\n",
       "    </tr>\n",
       "    <tr>\n",
       "      <th>7</th>\n",
       "      <td>71834</td>\n",
       "      <td>650.002/2003</td>\n",
       "      <td>333</td>\n",
       "      <td>2003-11-04</td>\n",
       "      <td>REQ PLG/REQUERIMENTO LAVRA GARIMPEIRA PROTOCOL...</td>\n",
       "      <td>2003</td>\n",
       "      <td>5918</td>\n",
       "      <td>1503606</td>\n",
       "      <td>ITAITUBA</td>\n",
       "      <td>PA</td>\n",
       "      <td>Norte</td>\n",
       "    </tr>\n",
       "    <tr>\n",
       "      <th>9</th>\n",
       "      <td>71853</td>\n",
       "      <td>650.003/2003</td>\n",
       "      <td>333</td>\n",
       "      <td>2003-11-04</td>\n",
       "      <td>REQ PLG/REQUERIMENTO LAVRA GARIMPEIRA PROTOCOL...</td>\n",
       "      <td>2003</td>\n",
       "      <td>5922</td>\n",
       "      <td>1503606</td>\n",
       "      <td>ITAITUBA</td>\n",
       "      <td>PA</td>\n",
       "      <td>Norte</td>\n",
       "    </tr>\n",
       "    <tr>\n",
       "      <th>...</th>\n",
       "      <td>...</td>\n",
       "      <td>...</td>\n",
       "      <td>...</td>\n",
       "      <td>...</td>\n",
       "      <td>...</td>\n",
       "      <td>...</td>\n",
       "      <td>...</td>\n",
       "      <td>...</td>\n",
       "      <td>...</td>\n",
       "      <td>...</td>\n",
       "      <td>...</td>\n",
       "    </tr>\n",
       "    <tr>\n",
       "      <th>19037</th>\n",
       "      <td>8585212</td>\n",
       "      <td>870.569/2023</td>\n",
       "      <td>333</td>\n",
       "      <td>2023-04-25</td>\n",
       "      <td>REQ PLG/REQUERIMENTO LAVRA GARIMPEIRA PROTOCOL...</td>\n",
       "      <td>2023</td>\n",
       "      <td>882695</td>\n",
       "      <td>2924306</td>\n",
       "      <td>PIATÃ</td>\n",
       "      <td>BA</td>\n",
       "      <td>Nordeste</td>\n",
       "    </tr>\n",
       "    <tr>\n",
       "      <th>19039</th>\n",
       "      <td>8617890</td>\n",
       "      <td>826.477/2012</td>\n",
       "      <td>333</td>\n",
       "      <td>2012-06-28</td>\n",
       "      <td>REQ PLG/REQUERIMENTO LAVRA GARIMPEIRA PROTOCOL...</td>\n",
       "      <td>2012</td>\n",
       "      <td>329453</td>\n",
       "      <td>4109708</td>\n",
       "      <td>IBAITI</td>\n",
       "      <td>PR</td>\n",
       "      <td>Sul</td>\n",
       "    </tr>\n",
       "    <tr>\n",
       "      <th>19041</th>\n",
       "      <td>8651771</td>\n",
       "      <td>826.587/2011</td>\n",
       "      <td>333</td>\n",
       "      <td>2011-08-19</td>\n",
       "      <td>REQ PLG/REQUERIMENTO LAVRA GARIMPEIRA PROTOCOL...</td>\n",
       "      <td>2011</td>\n",
       "      <td>333008</td>\n",
       "      <td>4126306</td>\n",
       "      <td>SENGÉS</td>\n",
       "      <td>PR</td>\n",
       "      <td>Sul</td>\n",
       "    </tr>\n",
       "    <tr>\n",
       "      <th>19043</th>\n",
       "      <td>8758985</td>\n",
       "      <td>830.081/2023</td>\n",
       "      <td>333</td>\n",
       "      <td>2023-01-19</td>\n",
       "      <td>REQ PLG/REQUERIMENTO LAVRA GARIMPEIRA PROTOCOL...</td>\n",
       "      <td>2023</td>\n",
       "      <td>344746</td>\n",
       "      <td>3142304</td>\n",
       "      <td>MOEDA</td>\n",
       "      <td>MG</td>\n",
       "      <td>Sudeste</td>\n",
       "    </tr>\n",
       "    <tr>\n",
       "      <th>19044</th>\n",
       "      <td>8759935</td>\n",
       "      <td>830.083/2022</td>\n",
       "      <td>333</td>\n",
       "      <td>2022-01-20</td>\n",
       "      <td>REQ PLG/REQUERIMENTO LAVRA GARIMPEIRA PROTOCOL...</td>\n",
       "      <td>2022</td>\n",
       "      <td>344847</td>\n",
       "      <td>3171006</td>\n",
       "      <td>VAZANTE</td>\n",
       "      <td>MG</td>\n",
       "      <td>Sudeste</td>\n",
       "    </tr>\n",
       "  </tbody>\n",
       "</table>\n",
       "<p>8145 rows × 11 columns</p>\n",
       "</div>"
      ],
      "text/plain": [
       "       Unnamed: 0_x    DSProcesso  IDEvento    DTEvento  \\\n",
       "2             71784  650.000/2003       333  2003-11-04   \n",
       "4             71808  650.001/2000       333  2000-02-07   \n",
       "5             71811  650.001/2003       333  2003-11-04   \n",
       "7             71834  650.002/2003       333  2003-11-04   \n",
       "9             71853  650.003/2003       333  2003-11-04   \n",
       "...             ...           ...       ...         ...   \n",
       "19037       8585212  870.569/2023       333  2023-04-25   \n",
       "19039       8617890  826.477/2012       333  2012-06-28   \n",
       "19041       8651771  826.587/2011       333  2011-08-19   \n",
       "19043       8758985  830.081/2023       333  2023-01-19   \n",
       "19044       8759935  830.083/2022       333  2022-01-20   \n",
       "\n",
       "                                                 Evento_  Data  Unnamed: 0_y  \\\n",
       "2      REQ PLG/REQUERIMENTO LAVRA GARIMPEIRA PROTOCOL...  2003          5910   \n",
       "4      REQ PLG/REQUERIMENTO LAVRA GARIMPEIRA PROTOCOL...  2000          5913   \n",
       "5      REQ PLG/REQUERIMENTO LAVRA GARIMPEIRA PROTOCOL...  2003          5914   \n",
       "7      REQ PLG/REQUERIMENTO LAVRA GARIMPEIRA PROTOCOL...  2003          5918   \n",
       "9      REQ PLG/REQUERIMENTO LAVRA GARIMPEIRA PROTOCOL...  2003          5922   \n",
       "...                                                  ...   ...           ...   \n",
       "19037  REQ PLG/REQUERIMENTO LAVRA GARIMPEIRA PROTOCOL...  2023        882695   \n",
       "19039  REQ PLG/REQUERIMENTO LAVRA GARIMPEIRA PROTOCOL...  2012        329453   \n",
       "19041  REQ PLG/REQUERIMENTO LAVRA GARIMPEIRA PROTOCOL...  2011        333008   \n",
       "19043  REQ PLG/REQUERIMENTO LAVRA GARIMPEIRA PROTOCOL...  2023        344746   \n",
       "19044  REQ PLG/REQUERIMENTO LAVRA GARIMPEIRA PROTOCOL...  2022        344847   \n",
       "\n",
       "       IDMunicipio Municipios  UF    Regiao  \n",
       "2          1503606   ITAITUBA  PA     Norte  \n",
       "4          1503606   ITAITUBA  PA     Norte  \n",
       "5          1503606   ITAITUBA  PA     Norte  \n",
       "7          1503606   ITAITUBA  PA     Norte  \n",
       "9          1503606   ITAITUBA  PA     Norte  \n",
       "...            ...        ...  ..       ...  \n",
       "19037      2924306      PIATÃ  BA  Nordeste  \n",
       "19039      4109708     IBAITI  PR       Sul  \n",
       "19041      4126306     SENGÉS  PR       Sul  \n",
       "19043      3142304      MOEDA  MG   Sudeste  \n",
       "19044      3171006    VAZANTE  MG   Sudeste  \n",
       "\n",
       "[8145 rows x 11 columns]"
      ]
     },
     "execution_count": 2,
     "metadata": {},
     "output_type": "execute_result"
    }
   ],
   "source": [
    "#Criando analises para evento 333\n",
    "#Pegando para ouro\n",
    "ouro = substancia.query('Substancia.str.contains(\"OURO\")',engine = 'python')\n",
    "#Pegando eventos 333,1402,513\n",
    "eventos333 = eventos.query('IDEvento == 333')\n",
    "#Filtrando os processos ativos:\n",
    "prceossos_ativos = processos.query('BTAtivo==\"S\"')\n",
    "#Relacionando os processos ativos com o df 333\n",
    "eventos333_ativos = eventos333[eventos333['DSProcesso'].isin(prceossos_ativos['DSProcesso'])]\n",
    "#Relacionando Ouro com os processos de evento 333\n",
    "eventos333_ativos_ouro = eventos333_ativos[eventos333_ativos['DSProcesso'].isin(ouro['DSProcesso'])]\n",
    "#Transformando o campo de data do evento333 em datetime\n",
    "eventos333_ativos_ouro['Data'] = pd.to_datetime(eventos333_ativos_ouro.DTEvento).dt.year\n",
    "#Tirando registros duplicados\n",
    "eventos333_ativos_ouro.drop_duplicates(subset='DSProcesso' ,keep ='last',inplace=True)\n",
    "\n",
    "\n",
    "#Pegando os estados para esses processo ativos de ouro\n",
    "mun_ouro_ativo_333 = mun[mun['DSProcesso'].isin(eventos333_ativos_ouro['DSProcesso'])]\n",
    "#Agrupando os estados por Regiao (Norte, sul, Sudeste,CentroOeste, Nordeste)\n",
    "sul =['RS','SC','PR']\n",
    "sudeste = ['SP','MG','RJ','ES']\n",
    "centrooeste =['MS','MT','GO','DF']\n",
    "nordeste = ['BA','PI','MA','CE','RN','PB','PE','AL','SE']\n",
    "norte = ['AC','RO','AM','RR','PA','TO','AP']\n",
    "mun_ouro_ativo_333['Regiao'] = ['Sul' if x in sul else 'Sudeste' if x in sudeste else 'Centro_Oeste' if x in centrooeste else 'Nordeste' if x in nordeste else 'Norte' if x in norte else 'SemEstado' for x in mun_ouro_ativo_333['UF']]\n",
    "#Dando Join com o df eventos333_ativos_ouro para plotar o ano com regiao do brasil\n",
    "join_333_regiao = eventos333_ativos_ouro.merge(mun_ouro_ativo_333,on='DSProcesso',how='inner')\n",
    "join_333_regiao.drop_duplicates(subset='DSProcesso' ,keep ='last',inplace=True)\n",
    "\n",
    "#Temos agora o dataframe eventos333_ativos_ouro que contem informaçoes para os processos de ouro, com evento 333\n",
    "#E tambem temos esse mesmo dataframe mas separado por UF e regiões do BRasil\n",
    "\n",
    "join_333_regiao.query('Data >= 2000')"
   ]
  },
  {
   "cell_type": "markdown",
   "id": "187e3b67",
   "metadata": {},
   "source": [
    "### Criando o Dataframe de preço de Ouro"
   ]
  },
  {
   "cell_type": "code",
   "execution_count": 12,
   "id": "b858f27e",
   "metadata": {},
   "outputs": [
    {
     "name": "stdout",
     "output_type": "stream",
     "text": [
      "<class 'pandas.core.frame.DataFrame'>\n",
      "Int64Index: 6752 entries, 2581 to 4108\n",
      "Data columns (total 7 columns):\n",
      " #   Column     Non-Null Count  Dtype         \n",
      "---  ------     --------------  -----         \n",
      " 0   Open       6752 non-null   float64       \n",
      " 1   Close      6752 non-null   float64       \n",
      " 2   High       6752 non-null   float64       \n",
      " 3   Low        6752 non-null   float64       \n",
      " 4   Volume     0 non-null      float64       \n",
      " 5   Date       6752 non-null   object        \n",
      " 6   Date_time  6752 non-null   datetime64[ns]\n",
      "dtypes: datetime64[ns](1), float64(5), object(1)\n",
      "memory usage: 422.0+ KB\n"
     ]
    },
    {
     "name": "stderr",
     "output_type": "stream",
     "text": [
      "C:\\Users\\eduar\\AppData\\Local\\Temp\\ipykernel_8432\\2487364482.py:8: SettingWithCopyWarning: \n",
      "A value is trying to be set on a copy of a slice from a DataFrame.\n",
      "Try using .loc[row_indexer,col_indexer] = value instead\n",
      "\n",
      "See the caveats in the documentation: https://pandas.pydata.org/pandas-docs/stable/user_guide/indexing.html#returning-a-view-versus-a-copy\n",
      "  gold_lastMonth['Year'] = gold_lastMonth['Date_time'].dt.year\n"
     ]
    }
   ],
   "source": [
    "import matplotlib\n",
    "gold = pd.read_csv('C:/Users/eduar/Downloads/Gold_01_01_07-12_31_99.csv')\n",
    "gold['Date_time'] = pd.to_datetime(gold['Date'])\n",
    "gold_sort=gold.sort_values(by='Date_time')\n",
    "gold_sort.info()\n",
    "a = gold_sort.groupby(gold_sort['Date_time'].dt.year)['Date_time'].max()\n",
    "gold_lastMonth = gold_sort[gold_sort['Date_time'].isin(a)]\n",
    "gold_lastMonth['Year'] = gold_lastMonth['Date_time'].dt.year"
   ]
  },
  {
   "cell_type": "markdown",
   "id": "fd328545",
   "metadata": {},
   "source": [
    "Plotando"
   ]
  },
  {
   "cell_type": "code",
   "execution_count": 14,
   "id": "2bbaa6de",
   "metadata": {},
   "outputs": [
    {
     "name": "stderr",
     "output_type": "stream",
     "text": [
      "C:\\Users\\eduar\\AppData\\Local\\Temp\\ipykernel_8432\\3673021489.py:1: FutureWarning: The default value of numeric_only in DataFrameGroupBy.sum is deprecated. In a future version, numeric_only will default to False. Either specify numeric_only or select only columns which should be valid for the function.\n",
      "  data_regiao_333= join_333_regiao.query('Data >= 2000').query('Regiao == \"Centro_Oeste\" ').groupby(['Data','Regiao','UF'], as_index=False).sum()\n"
     ]
    },
    {
     "data": {
      "image/png": "[encoded data removed]",
      "text/plain": [
       "<Figure size 1500x500 with 2 Axes>"
      ]
     },
     "metadata": {},
     "output_type": "display_data"
    }
   ],
   "source": [
    "data_regiao_333= join_333_regiao.query('Data >= 2000').query('Regiao == \"Centro_Oeste\" ').groupby(['Data','Regiao','UF'], as_index=False).sum()\n",
    "\n",
    "palette_norte = {'MT':'black','GO':'b','MS':'g'}\n",
    "matplotlib.rc_file_defaults()\n",
    "ax1 = sns.set_style(style=None, rc=None )\n",
    "\n",
    "\n",
    "fig, ax1 = plt.subplots(figsize=(15,5))\n",
    "x = sns.lineplot(gold_lastMonth,x='Year',y = 'Close')\n",
    "\n",
    "\n",
    "ax2 = ax1.twinx()\n",
    "y=sns.histplot(join_333_regiao.Data, #Histplot simples\n",
    "                stat='count', alpha=.4,binwidth=0.5,linewidth=3, edgecolor=\".5\", facecolor=(0, 0, 0, 0)) # Serve para ver a distribuição geral da quantidade de pedidos por ano\n",
    "\n",
    "for c in y.containers:\n",
    "    \n",
    "    # customize the label to account for cases when there might not be a bar section\n",
    "    labels = [f'{h:0.1f}' if (h := v.get_height())  else '' for v in c ]\n",
    "    \n",
    "    # set the bar label\n",
    "    y.bar_label(c, labels=labels, fontsize=8, padding=3)\n",
    "\n",
    "\n",
    "\n",
    "\n",
    "x.set(ylabel='Preço de Fechamento')\n",
    "y.set(xlabel='Data', ylabel='Contagem de pedidos')\n",
    "plt.show()"
   ]
  },
  {
   "cell_type": "code",
   "execution_count": null,
   "id": "f1e52eec",
   "metadata": {},
   "outputs": [],
   "source": [
    "#Salvando Dataframe da figura 1 do relatorio:\n",
    "join_333_regiao.groupby('Data',as_index=False).Data.value_counts().to_csv('Figura1.csv')\n",
    "\n"
   ]
  },
  {
   "cell_type": "markdown",
   "id": "f40392c7",
   "metadata": {},
   "source": [
    "## Fazendo Plots desses Dois dataframes (Evento 333)"
   ]
  },
  {
   "cell_type": "code",
   "execution_count": 4,
   "id": "af6fa40f",
   "metadata": {
    "ExecuteTime": {
     "end_time": "2023-05-29T15:20:07.937974Z",
     "start_time": "2023-05-29T15:20:07.238821Z"
    },
    "scrolled": false
   },
   "outputs": [
    {
     "data": {
      "image/png": "[encoded data removed]",
      "text/plain": [
       "<Figure size 1700x500 with 1 Axes>"
      ]
     },
     "metadata": {},
     "output_type": "display_data"
    },
    {
     "data": {
      "image/png": "[encoded data removed]",
      "text/plain": [
       "<Figure size 1700x500 with 1 Axes>"
      ]
     },
     "metadata": {},
     "output_type": "display_data"
    },
    {
     "data": {
      "text/plain": [
       "354.1304347826087"
      ]
     },
     "execution_count": 4,
     "metadata": {},
     "output_type": "execute_result"
    }
   ],
   "source": [
    "import seaborn as sns\n",
    "import  matplotlib.pyplot as plt\n",
    "%matplotlib inline\n",
    "palette = {'Norte':'g','Nordeste':'r','Sul':'y','Sudeste':'orange','Centro_Oeste':'blue'}\n",
    "\n",
    "\n",
    "sns.set(rc={\"figure.figsize\":(17, 5)})\n",
    "y=sns.histplot(join_333_regiao.query('Data >= 2000').Data, #Histplot simples\n",
    "                stat='count', alpha=.4,binwidth=0.5,linewidth=3, edgecolor=\".5\", facecolor=(0, 0, 0, 0)) # Serve para ver a distribuição geral da quantidade de pedidos por ano\n",
    "\n",
    "for c in y.containers:\n",
    "    \n",
    "    # customize the label to account for cases when there might not be a bar section\n",
    "    labels = [f'{h:0.1f}' if (h := v.get_height())  else '' for v in c ]\n",
    "    \n",
    "    # set the bar label\n",
    "    y.bar_label(c, labels=labels, fontsize=8, padding=3)\n",
    "\n",
    "\n",
    "\n",
    "\n",
    "\n",
    "y.set(xlabel='Data', ylabel='Contagem de pedidos')\n",
    "#Plotando uma Linha Paralela que indica a Média ao longo dos 20 anos de numero de pedidos:\n",
    "y.axhline(join_333_regiao.query('Data >= 2000')['Data'].value_counts().mean(),color ='r')\n",
    "plt.show()\n",
    "\n",
    "#f = sns.ecdfplot(eventos333_ativos_ouro['Data'], stat='proportion')#Plotando um grafico de frequencia relativa acumulativa\n",
    "#Com este plot, podemos perceber quantos pedidos para cada ano influenciam a frequencia acumulada\n",
    "#f.set(xlabel='Data', ylabel='Frequencia Relativa Acumulada')\n",
    "#plt.show()\n",
    "\n",
    "#Plotando quebrando por regiao\n",
    "#Assim conseguimos saber quais regiões do Brasil possuem os maiores pedidos\n",
    "#w = sns.histplot(data=join_333_regiao, x=\"Data\", hue=\"Regiao\", stat='count', alpha=.4, multiple='dodge',palette='Set2',\n",
    "             #binwidth=1)\n",
    "#w.set(xlabel='Data', ylabel='Contagem de pedidos')\n",
    "#plt.show()\n",
    "\n",
    "sns.ecdfplot(data=join_333_regiao.query('Data >= 2000'), x=\"Data\", stat='count',color='black')\n",
    "h = sns.ecdfplot(data=join_333_regiao.query('Data >= 2000'), x=\"Data\", hue=\"Regiao\", stat='count',palette=palette)\n",
    "\n",
    "h.set(xlabel='Data', ylabel='Frequencia Acumulada')\n",
    "\n",
    "plt.show()\n",
    "join_333_regiao.query('Data >= 2000')['Data'].value_counts().mean()"
   ]
  },
  {
   "cell_type": "code",
   "execution_count": null,
   "id": "7f5f21f1",
   "metadata": {},
   "outputs": [],
   "source": [
    "#Salvando Figura 3:\n",
    "\n",
    "full_cumulative = join_333_regiao.query('Data >= 2000').groupby(['Data'],as_index=False).Data.value_counts()\n",
    "full_cumulative['cumulativeSum'] = full_cumulative['count'].cumsum()\n",
    "full_cumulative['Grupo']='Total'\n",
    "\n",
    "\n",
    "cumulative_norte = join_333_regiao.query('Data >= 2000').query('Regiao==\"Norte\"').groupby(['Data'],as_index=False).Data.value_counts()\n",
    "cumulative_norte['cumulativeSum']= cumulative_norte['count'].cumsum()\n",
    "cumulative_norte['Grupo']='Norte'\n",
    "\n",
    "cumulative_nordeste = join_333_regiao.query('Data >= 2000').query('Regiao==\"Nordeste\"').groupby(['Data'],as_index=False).Data.value_counts()\n",
    "cumulative_nordeste['cumulativeSum']= cumulative_nordeste['count'].cumsum()\n",
    "cumulative_nordeste['Grupo']='Nordeste'\n",
    "\n",
    "cumulative_Sul = join_333_regiao.query('Data >= 2000').query('Regiao==\"Sul\"').groupby(['Data'],as_index=False).Data.value_counts()\n",
    "cumulative_Sul['cumulativeSum']= cumulative_Sul['count'].cumsum()\n",
    "cumulative_Sul['Grupo']='Sul'\n",
    "\n",
    "cumulative_Sudeste = join_333_regiao.query('Data >= 2000').query('Regiao==\"Sudeste\"').groupby(['Data'],as_index=False).Data.value_counts()\n",
    "cumulative_Sudeste['cumulativeSum']= cumulative_Sudeste['count'].cumsum()\n",
    "cumulative_Sudeste['Grupo']='Sudeste'\n",
    "\n",
    "cumulative_CentroOeste = join_333_regiao.query('Data >= 2000').query('Regiao==\"Centro_Oeste\"').groupby(['Data'],as_index=False).Data.value_counts()\n",
    "cumulative_CentroOeste['cumulativeSum']= cumulative_CentroOeste['count'].cumsum()\n",
    "cumulative_CentroOeste['Grupo']='Centro Oeste'\n",
    "\n",
    "figura_3 = pd.concat([full_cumulative,cumulative_norte,cumulative_nordeste,cumulative_Sul,cumulative_Sudeste,cumulative_CentroOeste])\n",
    "figura_3.to_csv('Figura3.csv')\n"
   ]
  },
  {
   "cell_type": "code",
   "execution_count": null,
   "id": "00f43647",
   "metadata": {},
   "outputs": [],
   "source": [
    "#Salvando df figura 5\n",
    "join_333_regiao.query('Data >= 2000').groupby('Data',as_index=False).Data.value_counts().to_csv('Figura5.csv')"
   ]
  },
  {
   "cell_type": "markdown",
   "id": "3013e5e5",
   "metadata": {},
   "source": [
    "## QUEBRANDO POR REGIAO Norte e Centro Oeste para o Evento 333"
   ]
  },
  {
   "cell_type": "code",
   "execution_count": null,
   "id": "2dbd9009",
   "metadata": {
    "ExecuteTime": {
     "end_time": "2023-05-29T21:26:00.022074Z",
     "start_time": "2023-05-29T21:25:59.065678Z"
    },
    "scrolled": false
   },
   "outputs": [],
   "source": [
    "import seaborn as sns\n",
    "import  matplotlib.pyplot as plt\n",
    "%matplotlib inline\n",
    "sns.set(rc={\"figure.figsize\":(17, 5)})\n",
    "#Fazendo um Histograma para Regiao Norte\n",
    "paletteN = {'PA':'g','AM':'r','RR':'y','RO':'orange','AP':'blue','TO':'magenta'}\n",
    "paletteCO = {'MT':'blue','GO':'green','MS':'black'}\n",
    "y = sns.histplot(data=join_333_regiao.query('Data >= 2000').query('Regiao==\"Norte\"'), x=\"Data\", hue=\"UF\", stat='count', alpha=1, multiple='dodge',bins=25,palette=paletteN)\n",
    "\n",
    "y.set(xlabel='Data', ylabel='Contagem de pedidos')\n",
    "plt.show()\n",
    "\n",
    "#Fazendo um histograma para Regiao Centro Oeste\n",
    "w = sns.histplot(data=join_333_regiao.query('Data >= 2000').query('Regiao==\"Centro_Oeste\"'), x=\"Data\", hue=\"UF\", stat='count', alpha=1, multiple='dodge',bins=25,palette=paletteCO)\n",
    "w.set(xlabel='Data', ylabel='Contagem de pedidos')\n",
    "plt.show()\n",
    "\n"
   ]
  },
  {
   "cell_type": "code",
   "execution_count": null,
   "id": "be22997d",
   "metadata": {},
   "outputs": [],
   "source": [
    "#Df para figura 6\n",
    "join_333_regiao.query('Data >= 2000').query('Regiao==\"Norte\"').groupby(['Data','UF'],as_index=False).Data.value_counts().to_csv('Figura6.csv')"
   ]
  },
  {
   "cell_type": "code",
   "execution_count": null,
   "id": "3ce3b9c6",
   "metadata": {},
   "outputs": [],
   "source": [
    "#Df para figura 7\n",
    "join_333_regiao.query('Data >= 2000').query('Regiao==\"Centro_Oeste\"').groupby(['Data','UF'],as_index=False).Data.value_counts().to_csv('Figura7.csv')"
   ]
  },
  {
   "cell_type": "code",
   "execution_count": null,
   "id": "ad37d908",
   "metadata": {},
   "outputs": [],
   "source": [
    "#join_333_regiao.query('Data >= 20a00').query('Regiao==\"Norte\"').Data.value_counts().sum()\n",
    "join_333_regiao.query('Data >= 2000').query('UF==\"PA\"').groupby('UF')['Data'].count()"
   ]
  },
  {
   "cell_type": "markdown",
   "id": "fdd8348f",
   "metadata": {},
   "source": [
    "## Criando Análises para ver quantos processos foram pedidos para Evento 513"
   ]
  },
  {
   "cell_type": "code",
   "execution_count": null,
   "id": "041aec32",
   "metadata": {
    "ExecuteTime": {
     "end_time": "2023-06-19T14:00:24.800128Z",
     "start_time": "2023-06-19T14:00:23.911617Z"
    }
   },
   "outputs": [],
   "source": [
    "#Criando analises para evento 333\n",
    "#Pegando para ouro\n",
    "ouro = substancia.query('Substancia.str.contains(\"OURO\")',engine = 'python')\n",
    "#Pegando eventos 513\n",
    "eventos513 = eventos.query('IDEvento == 513')\n",
    "#Filtrando os processos ativos:\n",
    "prceossos_ativos = processos.query('BTAtivo==\"S\"')\n",
    "#Relacionando os processos ativos com o df 513\n",
    "eventos513_ativos = eventos513[eventos513['DSProcesso'].isin(prceossos_ativos['DSProcesso'])]\n",
    "#Relacionando Ouro com os processos de evento 513\n",
    "eventos513_ativos_ouro = eventos513_ativos[eventos513_ativos['DSProcesso'].isin(ouro['DSProcesso'])]\n",
    "#Transformando o campo de data do evento513 em datetime\n",
    "eventos513_ativos_ouro['Data'] = pd.to_datetime(eventos513_ativos_ouro.DTEvento).dt.year\n",
    "#Tirando registros duplicados\n",
    "eventos513_ativos_ouro.drop_duplicates(subset='DSProcesso' ,keep ='last',inplace=True)\n",
    "\n",
    "\n",
    "#Pegando os estados para esses processo ativos de ouro\n",
    "mun_ouro_ativo_513 = mun[mun['DSProcesso'].isin(eventos513_ativos_ouro['DSProcesso'])]\n",
    "#Agrupando os estados por Regiao (Norte, sul, Sudeste,CentroOeste, Nordeste)\n",
    "sul =['RS','SC','PR']\n",
    "sudeste = ['SP','MG','RJ','ES']\n",
    "centrooeste =['MS','MT','GO','DF']\n",
    "nordeste = ['BA','PI','MA','CE','RN','PB','PE','AL','SE']\n",
    "norte = ['AC','RO','AM','RR','PA','TO','AP']\n",
    "mun_ouro_ativo_513['Regiao'] = ['Sul' if x in sul else 'Sudeste' if x in sudeste else 'Centro_Oeste' if x in centrooeste else 'Nordeste' if x in nordeste else 'Norte' if x in norte else 'SemEstado' for x in mun_ouro_ativo_513['UF']]\n",
    "#Dando Join com o df eventos333_ativos_ouro para plotar o ano com regiao do brasil\n",
    "join_513_regiao = eventos513_ativos_ouro.merge(mun_ouro_ativo_513,on='DSProcesso',how='inner')\n",
    "join_513_regiao.drop_duplicates(subset='DSProcesso' ,keep ='last',inplace=True)\n",
    "full_join = join_513_regiao.merge(join_333_regiao,how='inner',on='DSProcesso')\n",
    "full_join.query('Data_x >=2000')\n",
    "#Temos agora o dataframe eventos513_ativos_ouro que contem informaçoes para os processos de ouro, com evento 513\n",
    "#E tambem temos esse mesmo dataframe mas separado por UF e regiões do BRasil\n",
    "full_join_2 = full_join.merge(processos[['QTAreaHA','DSProcesso']],on='DSProcesso',how='inner')"
   ]
  },
  {
   "cell_type": "markdown",
   "id": "e2631f60",
   "metadata": {},
   "source": [
    "## Fazendo Plot desses dois dataframes (evento 513)"
   ]
  },
  {
   "cell_type": "code",
   "execution_count": null,
   "id": "feb661c5",
   "metadata": {
    "ExecuteTime": {
     "end_time": "2023-05-29T15:25:33.288469Z",
     "start_time": "2023-05-29T15:25:32.778171Z"
    }
   },
   "outputs": [],
   "source": [
    "import seaborn as sns\n",
    "import  matplotlib.pyplot as plt\n",
    "%matplotlib inline\n",
    "sns.set(rc={\"figure.figsize\":(17, 5)})\n",
    "palette = {'Norte':'g','Nordeste':'r','Sul':'y','Sudeste':'orange','Centro_Oeste':'blue'}\n",
    "y=sns.histplot(full_join.query('Data_x >=2000')['Data_x'], #Histplot simples\n",
    "                stat='count', alpha=.4,binwidth=0.5,linewidth=3, edgecolor=\".5\", facecolor=(0, 0, 0, 0)) # Serve para ver a distribuição geral da quantidade de pedidos por ano\n",
    "for c in y.containers:\n",
    "    \n",
    "    # customize the label to account for cases when there might not be a bar section\n",
    "    labels = [f'{h:0.1f}' if (h := v.get_height())  else '' for v in c ]\n",
    "    \n",
    "    # set the bar label\n",
    "    y.bar_label(c, labels=labels, fontsize=8, padding=3)\n",
    "y.set(xlabel='Data', ylabel='Contagem de pedidos')\n",
    "#Plotando uma Linha Paralela que indica a Média ao longo dos 20 anos de numero de pedidos:\n",
    "\n",
    "plt.show()\n",
    "\n",
    "sns.ecdfplot(data=full_join.query('Data_x >=2000'), x=\"Data_x\", stat='count',color='black')\n",
    "h = sns.ecdfplot(data=full_join.query('Data_x >=2000'), x=\"Data_x\", hue=\"Regiao_x\", stat='count',palette=palette)\n",
    "\n",
    "h.set(xlabel='Data', ylabel='Frequencia Acumulada')\n",
    "\n",
    "plt.show()\n"
   ]
  },
  {
   "cell_type": "code",
   "execution_count": null,
   "id": "0927a49e",
   "metadata": {
    "ExecuteTime": {
     "end_time": "2023-06-19T14:00:29.353606Z",
     "start_time": "2023-06-19T14:00:29.335671Z"
    }
   },
   "outputs": [],
   "source": [
    "#Criando df para figura 4:\n",
    "\n",
    "\n",
    "full_cumulative = full_join.query('Data_x >=2000').groupby(['Data_x'],as_index=False).Data_x.value_counts()\n",
    "full_cumulative['cumulativeSum'] = full_cumulative['count'].cumsum()\n",
    "full_cumulative['Grupo']='Total'\n",
    "\n",
    "\n",
    "cumulative_norte = full_join.query('Data_x >=2000').query('Regiao_x==\"Norte\"').groupby(['Data_x'],as_index=False).Data_x.value_counts()\n",
    "cumulative_norte['cumulativeSum']= cumulative_norte['count'].cumsum()\n",
    "cumulative_norte['Grupo']='Norte'\n",
    "\n",
    "cumulative_nordeste = full_join.query('Data_x >=2000').query('Regiao_x==\"Nordeste\"').groupby(['Data_x'],as_index=False).Data_x.value_counts()\n",
    "cumulative_nordeste['cumulativeSum']= cumulative_nordeste['count'].cumsum()\n",
    "cumulative_nordeste['Grupo']='Nordeste'\n",
    "\n",
    "cumulative_Sul = full_join.query('Data_x >=2000').query('Regiao_x==\"Sul\"').groupby(['Data_x'],as_index=False).Data_x.value_counts()\n",
    "cumulative_Sul['cumulativeSum']= cumulative_Sul['count'].cumsum()\n",
    "cumulative_Sul['Grupo']='Sul'\n",
    "\n",
    "cumulative_Sudeste = full_join.query('Data_x >=2000').query('Regiao_x==\"Sudeste\"').groupby(['Data_x'],as_index=False).Data_x.value_counts()\n",
    "cumulative_Sudeste['cumulativeSum']= cumulative_Sudeste['count'].cumsum()\n",
    "cumulative_Sudeste['Grupo']='Sudeste'\n",
    "\n",
    "cumulative_CentroOeste = full_join.query('Data_x >=2000').query('Regiao_x==\"Centro_Oeste\"').groupby(['Data_x'],as_index=False).Data_x.value_counts()\n",
    "cumulative_CentroOeste['cumulativeSum']= cumulative_CentroOeste['count'].cumsum()\n",
    "cumulative_CentroOeste['Grupo']='Centro Oeste'\n",
    "\n",
    "figura_4 = pd.concat([full_cumulative,cumulative_norte,cumulative_nordeste,cumulative_Sul,cumulative_Sudeste,cumulative_CentroOeste])\n",
    "figura_4.to_csv('Figura4.csv')"
   ]
  },
  {
   "cell_type": "code",
   "execution_count": null,
   "id": "0ad756c5",
   "metadata": {},
   "outputs": [],
   "source": [
    "#DF para figura 11\n",
    "full_join.query('Data_x >=2000').groupby('Data_x',as_index=False).Data_x.value_counts().to_csv('Figura11.csv')"
   ]
  },
  {
   "cell_type": "markdown",
   "id": "97c60619",
   "metadata": {},
   "source": [
    "## Quebrando Para Regiao Norte e Centro Oeste para evento 513"
   ]
  },
  {
   "cell_type": "code",
   "execution_count": null,
   "id": "400ffc69",
   "metadata": {},
   "outputs": [],
   "source": [
    "import seaborn as sns\n",
    "import  matplotlib.pyplot as plt\n",
    "%matplotlib inline\n",
    "sns.set(rc={\"figure.figsize\":(17, 5)})\n",
    "#Fazendo um Histograma para Regiao Norte\n",
    "paletteN = {'PA':'g','AM':'r','RR':'y','RO':'orange','AP':'blue','TO':'magenta'}\n",
    "paletteCO = {'MT':'blue','GO':'green','MS':'black'}\n",
    "y = sns.histplot(data=full_join.query('Data_x >= 2007').query('Regiao_x==\"Norte\"'), x=\"Data_x\", hue=\"UF_x\", stat='count', alpha=1, multiple='dodge',bins=25,palette=paletteN)\n",
    "\n",
    "y.set(xlabel='Data', ylabel='Contagem de pedidos')\n",
    "plt.show()\n",
    "\n",
    "#Fazendo um histograma para Regiao Centro Oeste\n",
    "w = sns.histplot(data=full_join.query('Data_x >= 2000').query('Regiao_x==\"Centro_Oeste\"'), x=\"Data_x\", hue=\"UF_x\", stat='count', alpha=1, multiple='dodge',bins=25,palette=paletteCO)\n",
    "w.set(xlabel='Data', ylabel='Contagem de pedidos')\n",
    "plt.show()\n",
    "\n"
   ]
  },
  {
   "cell_type": "code",
   "execution_count": null,
   "id": "b9401da0",
   "metadata": {},
   "outputs": [],
   "source": [
    "#join_333_regiao.query('Data >= 20a00').query('Regiao==\"Norte\"').Data.value_counts().sum()\n",
    "full_join_2.query('Data_x >= 2000').query('Regiao_x==\"Norte\"').groupby(['UF_x'],as_index=False)['Data_x'].count()\n"
   ]
  },
  {
   "cell_type": "code",
   "execution_count": null,
   "id": "13c661cc",
   "metadata": {},
   "outputs": [],
   "source": [
    "pessoa_fisica = pessoa.query('Pessoa==\"F\"')\n",
    "pessoa_juridica = pessoa.query('Pessoa==\"J\"')\n",
    "p_fisica_only = pessoa_fisica[~pessoa_fisica['DSProcesso'].isin(pessoa_juridica['DSProcesso'])]\n",
    "juridico_certo = pessoa[ ~ pessoa['DSProcesso'].isin(p_fisica_only['DSProcesso'])]\n",
    "#Criando dummys\n",
    "p_fisica_only['Pessoa_Dummy'] = 'Pessoa Fisica'\n",
    "juridico_certo['Pessoa_Dummy'] = 'Pessoa Juridica'\n",
    "p_fisica_only.drop_duplicates('DSProcesso',keep = 'first',inplace=True)\n",
    "juridico_certo.drop_duplicates('DSProcesso',keep = 'first',inplace=True)\n",
    "pessoas_certo = pd.concat([p_fisica_only,juridico_certo])\n",
    "pessoas_certo[['DSProcesso','Pessoa_Dummy','Pessoa_NOME']]"
   ]
  },
  {
   "cell_type": "code",
   "execution_count": null,
   "id": "a2e4592a",
   "metadata": {
    "ExecuteTime": {
     "end_time": "2023-05-29T21:36:29.433574Z",
     "start_time": "2023-05-29T21:36:29.414103Z"
    }
   },
   "outputs": [],
   "source": [
    "import seaborn as sns\n",
    "import numpy as np\n",
    "import  matplotlib.pyplot as plt\n",
    "%matplotlib inline\n",
    "sns.set(rc={\"figure.figsize\":(17, 5)})\n",
    "a = pessoas_certo[['DSProcesso','Pessoa_Dummy','Pessoa_NOME']]\n",
    "b = full_join.query('Data_x >=2000').merge(a,how='inner',on='DSProcesso')\n",
    "b.drop_duplicates(\"DSProcesso\",keep='last',inplace=True)\n",
    "b_g = b.groupby(['Pessoa_Dummy'],as_index=False).Data_x.value_counts()\n",
    "b_g['Decadas'] =np.select(\n",
    "    [\n",
    "        \n",
    "        b_g['Data_x'].between(2000, 2009, inclusive=True),\n",
    "        b_g['Data_x'].between(2010, 2019, inclusive=True),\n",
    "        b_g['Data_x'].between(2020, 2023, inclusive=True)\n",
    "    ],\n",
    "    [\n",
    "        \n",
    "        'Década de 2000 - 2009',\n",
    "        'Década de 2010 - 2019',\n",
    "        'Década de 2020- 2023'\n",
    "    ]\n",
    ")\n",
    "b_g_g = b_g.groupby(['Decadas','Pessoa_Dummy'],as_index=False)['count'].sum()\n",
    "sns.barplot(data=b_g_g, x=\"Decadas\", y=\"count\", hue=\"Pessoa_Dummy\")\n",
    "plt.show()\n"
   ]
  },
  {
   "cell_type": "code",
   "execution_count": null,
   "id": "e15584dd",
   "metadata": {},
   "outputs": [],
   "source": [
    "import seaborn as sns\n",
    "import numpy as np\n",
    "import  matplotlib.pyplot as plt\n",
    "%matplotlib inline\n",
    "sns.set(rc={\"figure.figsize\":(17, 5)})\n",
    "a = pessoa[['DSProcesso','Pessoa','Pessoa_NOME']]\n",
    "b = full_join.merge(a,how='inner',on='DSProcesso')\n",
    "b.drop_duplicates(\"DSProcesso\",keep='last',inplace=True)\n",
    "\n",
    "full_join.columns"
   ]
  }
 ],
 "metadata": {
  "kernelspec": {
   "display_name": "Python 3 (ipykernel)",
   "language": "python",
   "name": "python3"
  },
  "language_info": {
   "codemirror_mode": {
    "name": "ipython",
    "version": 3
   },
   "file_extension": ".py",
   "mimetype": "text/x-python",
   "name": "python",
   "nbconvert_exporter": "python",
   "pygments_lexer": "ipython3",
   "version": "3.11.3"
  }
 },
 "nbformat": 4,
 "nbformat_minor": 5
}
