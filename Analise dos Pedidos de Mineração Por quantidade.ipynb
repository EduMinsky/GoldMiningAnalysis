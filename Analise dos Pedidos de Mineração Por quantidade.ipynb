{
 "cells": [
  {
   "cell_type": "code",
   "execution_count": null,
   "id": "62246d3e",
   "metadata": {
    "ExecuteTime": {
     "end_time": "2023-06-19T14:00:23.151476Z",
     "start_time": "2023-06-19T14:00:08.101676Z"
    },
    "scrolled": true
   },
   "outputs": [],
   "source": [
    "#Lendo os dataframes\n",
    "import pandas as pd\n",
    "path = 'C:\\\\Users\\\\User\\\\Dropbox (CPI)\\\\EduardoMinsky\\\\Dados_Mineracao\\\\Dados Tabulares\\\\Dados_Relacionados\\\\'\n",
    "#Pegando processos apenas do Pará\n",
    "mun = pd.read_csv(path+'ProcessoMunicipio.csv')\n",
    "substancia = pd.read_csv(path+'ProcessoSubstancia.csv')\n",
    "eventos = pd.read_csv(path+'ProcessoEvento.csv')\n",
    "processos = pd.read_csv(path+'Processo.csv')\n",
    "pessoa = pd.read_csv(path+'ProcessoPessoa.csv')\n"
   ]
  },
  {
   "cell_type": "markdown",
   "id": "d4208625",
   "metadata": {},
   "source": [
    "## Preparando os DataFrames para as analises de quantos processos foram pedidos( evento 333)\n"
   ]
  },
  {
   "cell_type": "code",
   "execution_count": null,
   "id": "1f46af40",
   "metadata": {
    "ExecuteTime": {
     "end_time": "2023-06-19T14:00:23.909719Z",
     "start_time": "2023-06-19T14:00:23.153472Z"
    },
    "code_folding": [],
    "scrolled": false
   },
   "outputs": [],
   "source": [
    "#Criando analises para evento 333\n",
    "#Pegando para ouro\n",
    "ouro = substancia.query('Substancia.str.contains(\"OURO\")',engine = 'python')\n",
    "#Pegando eventos 333,1402,513\n",
    "eventos333 = eventos.query('IDEvento == 333')\n",
    "#Filtrando os processos ativos:\n",
    "prceossos_ativos = processos.query('BTAtivo==\"S\"')\n",
    "#Relacionando os processos ativos com o df 333\n",
    "eventos333_ativos = eventos333[eventos333['DSProcesso'].isin(prceossos_ativos['DSProcesso'])]\n",
    "#Relacionando Ouro com os processos de evento 333\n",
    "eventos333_ativos_ouro = eventos333_ativos[eventos333_ativos['DSProcesso'].isin(ouro['DSProcesso'])]\n",
    "#Transformando o campo de data do evento333 em datetime\n",
    "eventos333_ativos_ouro['Data'] = pd.to_datetime(eventos333_ativos_ouro.DTEvento).dt.year\n",
    "#Tirando registros duplicados\n",
    "eventos333_ativos_ouro.drop_duplicates(subset='DSProcesso' ,keep ='last',inplace=True)\n",
    "\n",
    "\n",
    "#Pegando os estados para esses processo ativos de ouro\n",
    "mun_ouro_ativo_333 = mun[mun['DSProcesso'].isin(eventos333_ativos_ouro['DSProcesso'])]\n",
    "#Agrupando os estados por Regiao (Norte, sul, Sudeste,CentroOeste, Nordeste)\n",
    "sul =['RS','SC','PR']\n",
    "sudeste = ['SP','MG','RJ','ES']\n",
    "centrooeste =['MS','MT','GO','DF']\n",
    "nordeste = ['BA','PI','MA','CE','RN','PB','PE','AL','SE']\n",
    "norte = ['AC','RO','AM','RR','PA','TO','AP']\n",
    "mun_ouro_ativo_333['Regiao'] = ['Sul' if x in sul else 'Sudeste' if x in sudeste else 'Centro_Oeste' if x in centrooeste else 'Nordeste' if x in nordeste else 'Norte' if x in norte else 'SemEstado' for x in mun_ouro_ativo_333['UF']]\n",
    "#Dando Join com o df eventos333_ativos_ouro para plotar o ano com regiao do brasil\n",
    "join_333_regiao = eventos333_ativos_ouro.merge(mun_ouro_ativo_333,on='DSProcesso',how='inner')\n",
    "join_333_regiao.drop_duplicates(subset='DSProcesso' ,keep ='last',inplace=True)\n",
    "\n",
    "#Temos agora o dataframe eventos333_ativos_ouro que contem informaçoes para os processos de ouro, com evento 333\n",
    "#E tambem temos esse mesmo dataframe mas separado por UF e regiões do BRasil\n",
    "\n",
    "join_333_regiao.query('Data >= 2000')"
   ]
  },
  {
   "cell_type": "code",
   "execution_count": null,
   "id": "f1e52eec",
   "metadata": {},
   "outputs": [],
   "source": [
    "#Salvando Dataframe da figura 1 do relatorio:\n",
    "join_333_regiao.groupby('Data',as_index=False).Data.value_counts().to_csv('Figura1.csv')\n",
    "\n"
   ]
  },
  {
   "cell_type": "markdown",
   "id": "f40392c7",
   "metadata": {},
   "source": [
    "## Fazendo Plots desses Dois dataframes (Evento 333)"
   ]
  },
  {
   "cell_type": "code",
   "execution_count": null,
   "id": "af6fa40f",
   "metadata": {
    "ExecuteTime": {
     "end_time": "2023-05-29T15:20:07.937974Z",
     "start_time": "2023-05-29T15:20:07.238821Z"
    },
    "scrolled": false
   },
   "outputs": [],
   "source": [
    "import seaborn as sns\n",
    "import  matplotlib.pyplot as plt\n",
    "%matplotlib inline\n",
    "palette = {'Norte':'g','Nordeste':'r','Sul':'y','Sudeste':'orange','Centro_Oeste':'blue'}\n",
    "\n",
    "\n",
    "sns.set(rc={\"figure.figsize\":(17, 5)})\n",
    "y=sns.histplot(join_333_regiao.query('Data >= 2000').Data, #Histplot simples\n",
    "                stat='count', alpha=.4,binwidth=0.5,linewidth=3, edgecolor=\".5\", facecolor=(0, 0, 0, 0)) # Serve para ver a distribuição geral da quantidade de pedidos por ano\n",
    "\n",
    "for c in y.containers:\n",
    "    \n",
    "    # customize the label to account for cases when there might not be a bar section\n",
    "    labels = [f'{h:0.1f}' if (h := v.get_height())  else '' for v in c ]\n",
    "    \n",
    "    # set the bar label\n",
    "    y.bar_label(c, labels=labels, fontsize=8, padding=3)\n",
    "\n",
    "\n",
    "\n",
    "\n",
    "\n",
    "y.set(xlabel='Data', ylabel='Contagem de pedidos')\n",
    "#Plotando uma Linha Paralela que indica a Média ao longo dos 20 anos de numero de pedidos:\n",
    "y.axhline(join_333_regiao.query('Data >= 2000')['Data'].value_counts().mean(),color ='r')\n",
    "plt.show()\n",
    "\n",
    "#f = sns.ecdfplot(eventos333_ativos_ouro['Data'], stat='proportion')#Plotando um grafico de frequencia relativa acumulativa\n",
    "#Com este plot, podemos perceber quantos pedidos para cada ano influenciam a frequencia acumulada\n",
    "#f.set(xlabel='Data', ylabel='Frequencia Relativa Acumulada')\n",
    "#plt.show()\n",
    "\n",
    "#Plotando quebrando por regiao\n",
    "#Assim conseguimos saber quais regiões do Brasil possuem os maiores pedidos\n",
    "#w = sns.histplot(data=join_333_regiao, x=\"Data\", hue=\"Regiao\", stat='count', alpha=.4, multiple='dodge',palette='Set2',\n",
    "             #binwidth=1)\n",
    "#w.set(xlabel='Data', ylabel='Contagem de pedidos')\n",
    "#plt.show()\n",
    "\n",
    "sns.ecdfplot(data=join_333_regiao.query('Data >= 2000'), x=\"Data\", stat='count',color='black')\n",
    "h = sns.ecdfplot(data=join_333_regiao.query('Data >= 2000'), x=\"Data\", hue=\"Regiao\", stat='count',palette=palette)\n",
    "\n",
    "h.set(xlabel='Data', ylabel='Frequencia Acumulada')\n",
    "\n",
    "plt.show()\n",
    "join_333_regiao.query('Data >= 2000')['Data'].value_counts().mean()"
   ]
  },
  {
   "cell_type": "code",
   "execution_count": null,
   "id": "7f5f21f1",
   "metadata": {},
   "outputs": [],
   "source": [
    "#Salvando Figura 3:\n",
    "\n",
    "full_cumulative = join_333_regiao.query('Data >= 2000').groupby(['Data'],as_index=False).Data.value_counts()\n",
    "full_cumulative['cumulativeSum'] = full_cumulative['count'].cumsum()\n",
    "full_cumulative['Grupo']='Total'\n",
    "\n",
    "\n",
    "cumulative_norte = join_333_regiao.query('Data >= 2000').query('Regiao==\"Norte\"').groupby(['Data'],as_index=False).Data.value_counts()\n",
    "cumulative_norte['cumulativeSum']= cumulative_norte['count'].cumsum()\n",
    "cumulative_norte['Grupo']='Norte'\n",
    "\n",
    "cumulative_nordeste = join_333_regiao.query('Data >= 2000').query('Regiao==\"Nordeste\"').groupby(['Data'],as_index=False).Data.value_counts()\n",
    "cumulative_nordeste['cumulativeSum']= cumulative_nordeste['count'].cumsum()\n",
    "cumulative_nordeste['Grupo']='Nordeste'\n",
    "\n",
    "cumulative_Sul = join_333_regiao.query('Data >= 2000').query('Regiao==\"Sul\"').groupby(['Data'],as_index=False).Data.value_counts()\n",
    "cumulative_Sul['cumulativeSum']= cumulative_Sul['count'].cumsum()\n",
    "cumulative_Sul['Grupo']='Sul'\n",
    "\n",
    "cumulative_Sudeste = join_333_regiao.query('Data >= 2000').query('Regiao==\"Sudeste\"').groupby(['Data'],as_index=False).Data.value_counts()\n",
    "cumulative_Sudeste['cumulativeSum']= cumulative_Sudeste['count'].cumsum()\n",
    "cumulative_Sudeste['Grupo']='Sudeste'\n",
    "\n",
    "cumulative_CentroOeste = join_333_regiao.query('Data >= 2000').query('Regiao==\"Centro_Oeste\"').groupby(['Data'],as_index=False).Data.value_counts()\n",
    "cumulative_CentroOeste['cumulativeSum']= cumulative_CentroOeste['count'].cumsum()\n",
    "cumulative_CentroOeste['Grupo']='Centro Oeste'\n",
    "\n",
    "figura_3 = pd.concat([full_cumulative,cumulative_norte,cumulative_nordeste,cumulative_Sul,cumulative_Sudeste,cumulative_CentroOeste])\n",
    "figura_3.to_csv('Figura3.csv')\n"
   ]
  },
  {
   "cell_type": "code",
   "execution_count": null,
   "id": "00f43647",
   "metadata": {},
   "outputs": [],
   "source": [
    "#Salvando df figura 5\n",
    "join_333_regiao.query('Data >= 2000').groupby('Data',as_index=False).Data.value_counts().to_csv('Figura5.csv')"
   ]
  },
  {
   "cell_type": "markdown",
   "id": "3013e5e5",
   "metadata": {},
   "source": [
    "## QUEBRANDO POR REGIAO Norte e Centro Oeste para o Evento 333"
   ]
  },
  {
   "cell_type": "code",
   "execution_count": null,
   "id": "2dbd9009",
   "metadata": {
    "ExecuteTime": {
     "end_time": "2023-05-29T21:26:00.022074Z",
     "start_time": "2023-05-29T21:25:59.065678Z"
    },
    "scrolled": false
   },
   "outputs": [],
   "source": [
    "import seaborn as sns\n",
    "import  matplotlib.pyplot as plt\n",
    "%matplotlib inline\n",
    "sns.set(rc={\"figure.figsize\":(17, 5)})\n",
    "#Fazendo um Histograma para Regiao Norte\n",
    "paletteN = {'PA':'g','AM':'r','RR':'y','RO':'orange','AP':'blue','TO':'magenta'}\n",
    "paletteCO = {'MT':'blue','GO':'green','MS':'black'}\n",
    "y = sns.histplot(data=join_333_regiao.query('Data >= 2000').query('Regiao==\"Norte\"'), x=\"Data\", hue=\"UF\", stat='count', alpha=1, multiple='dodge',bins=25,palette=paletteN)\n",
    "\n",
    "y.set(xlabel='Data', ylabel='Contagem de pedidos')\n",
    "plt.show()\n",
    "\n",
    "#Fazendo um histograma para Regiao Centro Oeste\n",
    "w = sns.histplot(data=join_333_regiao.query('Data >= 2000').query('Regiao==\"Centro_Oeste\"'), x=\"Data\", hue=\"UF\", stat='count', alpha=1, multiple='dodge',bins=25,palette=paletteCO)\n",
    "w.set(xlabel='Data', ylabel='Contagem de pedidos')\n",
    "plt.show()\n",
    "\n"
   ]
  },
  {
   "cell_type": "code",
   "execution_count": null,
   "id": "be22997d",
   "metadata": {},
   "outputs": [],
   "source": [
    "#Df para figura 6\n",
    "join_333_regiao.query('Data >= 2000').query('Regiao==\"Norte\"').groupby(['Data','UF'],as_index=False).Data.value_counts().to_csv('Figura6.csv')"
   ]
  },
  {
   "cell_type": "code",
   "execution_count": null,
   "id": "3ce3b9c6",
   "metadata": {},
   "outputs": [],
   "source": [
    "#Df para figura 7\n",
    "join_333_regiao.query('Data >= 2000').query('Regiao==\"Centro_Oeste\"').groupby(['Data','UF'],as_index=False).Data.value_counts().to_csv('Figura7.csv')"
   ]
  },
  {
   "cell_type": "code",
   "execution_count": null,
   "id": "ad37d908",
   "metadata": {},
   "outputs": [],
   "source": [
    "#join_333_regiao.query('Data >= 20a00').query('Regiao==\"Norte\"').Data.value_counts().sum()\n",
    "join_333_regiao.query('Data >= 2000').query('UF==\"PA\"').groupby('UF')['Data'].count()"
   ]
  },
  {
   "cell_type": "markdown",
   "id": "fdd8348f",
   "metadata": {},
   "source": [
    "## Criando Análises para ver quantos processos foram pedidos para Evento 513"
   ]
  },
  {
   "cell_type": "code",
   "execution_count": null,
   "id": "041aec32",
   "metadata": {
    "ExecuteTime": {
     "end_time": "2023-06-19T14:00:24.800128Z",
     "start_time": "2023-06-19T14:00:23.911617Z"
    }
   },
   "outputs": [],
   "source": [
    "#Criando analises para evento 333\n",
    "#Pegando para ouro\n",
    "ouro = substancia.query('Substancia.str.contains(\"OURO\")',engine = 'python')\n",
    "#Pegando eventos 513\n",
    "eventos513 = eventos.query('IDEvento == 513')\n",
    "#Filtrando os processos ativos:\n",
    "prceossos_ativos = processos.query('BTAtivo==\"S\"')\n",
    "#Relacionando os processos ativos com o df 513\n",
    "eventos513_ativos = eventos513[eventos513['DSProcesso'].isin(prceossos_ativos['DSProcesso'])]\n",
    "#Relacionando Ouro com os processos de evento 513\n",
    "eventos513_ativos_ouro = eventos513_ativos[eventos513_ativos['DSProcesso'].isin(ouro['DSProcesso'])]\n",
    "#Transformando o campo de data do evento513 em datetime\n",
    "eventos513_ativos_ouro['Data'] = pd.to_datetime(eventos513_ativos_ouro.DTEvento).dt.year\n",
    "#Tirando registros duplicados\n",
    "eventos513_ativos_ouro.drop_duplicates(subset='DSProcesso' ,keep ='last',inplace=True)\n",
    "\n",
    "\n",
    "#Pegando os estados para esses processo ativos de ouro\n",
    "mun_ouro_ativo_513 = mun[mun['DSProcesso'].isin(eventos513_ativos_ouro['DSProcesso'])]\n",
    "#Agrupando os estados por Regiao (Norte, sul, Sudeste,CentroOeste, Nordeste)\n",
    "sul =['RS','SC','PR']\n",
    "sudeste = ['SP','MG','RJ','ES']\n",
    "centrooeste =['MS','MT','GO','DF']\n",
    "nordeste = ['BA','PI','MA','CE','RN','PB','PE','AL','SE']\n",
    "norte = ['AC','RO','AM','RR','PA','TO','AP']\n",
    "mun_ouro_ativo_513['Regiao'] = ['Sul' if x in sul else 'Sudeste' if x in sudeste else 'Centro_Oeste' if x in centrooeste else 'Nordeste' if x in nordeste else 'Norte' if x in norte else 'SemEstado' for x in mun_ouro_ativo_513['UF']]\n",
    "#Dando Join com o df eventos333_ativos_ouro para plotar o ano com regiao do brasil\n",
    "join_513_regiao = eventos513_ativos_ouro.merge(mun_ouro_ativo_513,on='DSProcesso',how='inner')\n",
    "join_513_regiao.drop_duplicates(subset='DSProcesso' ,keep ='last',inplace=True)\n",
    "full_join = join_513_regiao.merge(join_333_regiao,how='inner',on='DSProcesso')\n",
    "full_join.query('Data_x >=2000')\n",
    "#Temos agora o dataframe eventos513_ativos_ouro que contem informaçoes para os processos de ouro, com evento 513\n",
    "#E tambem temos esse mesmo dataframe mas separado por UF e regiões do BRasil\n",
    "full_join_2 = full_join.merge(processos[['QTAreaHA','DSProcesso']],on='DSProcesso',how='inner')"
   ]
  },
  {
   "cell_type": "markdown",
   "id": "e2631f60",
   "metadata": {},
   "source": [
    "## Fazendo Plot desses dois dataframes (evento 513)"
   ]
  },
  {
   "cell_type": "code",
   "execution_count": null,
   "id": "feb661c5",
   "metadata": {
    "ExecuteTime": {
     "end_time": "2023-05-29T15:25:33.288469Z",
     "start_time": "2023-05-29T15:25:32.778171Z"
    }
   },
   "outputs": [],
   "source": [
    "import seaborn as sns\n",
    "import  matplotlib.pyplot as plt\n",
    "%matplotlib inline\n",
    "sns.set(rc={\"figure.figsize\":(17, 5)})\n",
    "palette = {'Norte':'g','Nordeste':'r','Sul':'y','Sudeste':'orange','Centro_Oeste':'blue'}\n",
    "y=sns.histplot(full_join.query('Data_x >=2000')['Data_x'], #Histplot simples\n",
    "                stat='count', alpha=.4,binwidth=0.5,linewidth=3, edgecolor=\".5\", facecolor=(0, 0, 0, 0)) # Serve para ver a distribuição geral da quantidade de pedidos por ano\n",
    "for c in y.containers:\n",
    "    \n",
    "    # customize the label to account for cases when there might not be a bar section\n",
    "    labels = [f'{h:0.1f}' if (h := v.get_height())  else '' for v in c ]\n",
    "    \n",
    "    # set the bar label\n",
    "    y.bar_label(c, labels=labels, fontsize=8, padding=3)\n",
    "y.set(xlabel='Data', ylabel='Contagem de pedidos')\n",
    "#Plotando uma Linha Paralela que indica a Média ao longo dos 20 anos de numero de pedidos:\n",
    "\n",
    "plt.show()\n",
    "\n",
    "sns.ecdfplot(data=full_join.query('Data_x >=2000'), x=\"Data_x\", stat='count',color='black')\n",
    "h = sns.ecdfplot(data=full_join.query('Data_x >=2000'), x=\"Data_x\", hue=\"Regiao_x\", stat='count',palette=palette)\n",
    "\n",
    "h.set(xlabel='Data', ylabel='Frequencia Acumulada')\n",
    "\n",
    "plt.show()\n"
   ]
  },
  {
   "cell_type": "code",
   "execution_count": null,
   "id": "0927a49e",
   "metadata": {
    "ExecuteTime": {
     "end_time": "2023-06-19T14:00:29.353606Z",
     "start_time": "2023-06-19T14:00:29.335671Z"
    }
   },
   "outputs": [],
   "source": [
    "#Criando df para figura 4:\n",
    "\n",
    "\n",
    "full_cumulative = full_join.query('Data_x >=2000').groupby(['Data_x'],as_index=False).Data_x.value_counts()\n",
    "full_cumulative['cumulativeSum'] = full_cumulative['count'].cumsum()\n",
    "full_cumulative['Grupo']='Total'\n",
    "\n",
    "\n",
    "cumulative_norte = full_join.query('Data_x >=2000').query('Regiao_x==\"Norte\"').groupby(['Data_x'],as_index=False).Data_x.value_counts()\n",
    "cumulative_norte['cumulativeSum']= cumulative_norte['count'].cumsum()\n",
    "cumulative_norte['Grupo']='Norte'\n",
    "\n",
    "cumulative_nordeste = full_join.query('Data_x >=2000').query('Regiao_x==\"Nordeste\"').groupby(['Data_x'],as_index=False).Data_x.value_counts()\n",
    "cumulative_nordeste['cumulativeSum']= cumulative_nordeste['count'].cumsum()\n",
    "cumulative_nordeste['Grupo']='Nordeste'\n",
    "\n",
    "cumulative_Sul = full_join.query('Data_x >=2000').query('Regiao_x==\"Sul\"').groupby(['Data_x'],as_index=False).Data_x.value_counts()\n",
    "cumulative_Sul['cumulativeSum']= cumulative_Sul['count'].cumsum()\n",
    "cumulative_Sul['Grupo']='Sul'\n",
    "\n",
    "cumulative_Sudeste = full_join.query('Data_x >=2000').query('Regiao_x==\"Sudeste\"').groupby(['Data_x'],as_index=False).Data_x.value_counts()\n",
    "cumulative_Sudeste['cumulativeSum']= cumulative_Sudeste['count'].cumsum()\n",
    "cumulative_Sudeste['Grupo']='Sudeste'\n",
    "\n",
    "cumulative_CentroOeste = full_join.query('Data_x >=2000').query('Regiao_x==\"Centro_Oeste\"').groupby(['Data_x'],as_index=False).Data_x.value_counts()\n",
    "cumulative_CentroOeste['cumulativeSum']= cumulative_CentroOeste['count'].cumsum()\n",
    "cumulative_CentroOeste['Grupo']='Centro Oeste'\n",
    "\n",
    "figura_4 = pd.concat([full_cumulative,cumulative_norte,cumulative_nordeste,cumulative_Sul,cumulative_Sudeste,cumulative_CentroOeste])\n",
    "figura_4.to_csv('Figura4.csv')"
   ]
  },
  {
   "cell_type": "code",
   "execution_count": null,
   "id": "0ad756c5",
   "metadata": {},
   "outputs": [],
   "source": [
    "#DF para figura 11\n",
    "full_join.query('Data_x >=2000').groupby('Data_x',as_index=False).Data_x.value_counts().to_csv('Figura11.csv')"
   ]
  },
  {
   "cell_type": "markdown",
   "id": "97c60619",
   "metadata": {},
   "source": [
    "## Quebrando Para Regiao Norte e Centro Oeste para evento 513"
   ]
  },
  {
   "cell_type": "code",
   "execution_count": null,
   "id": "400ffc69",
   "metadata": {},
   "outputs": [],
   "source": [
    "import seaborn as sns\n",
    "import  matplotlib.pyplot as plt\n",
    "%matplotlib inline\n",
    "sns.set(rc={\"figure.figsize\":(17, 5)})\n",
    "#Fazendo um Histograma para Regiao Norte\n",
    "paletteN = {'PA':'g','AM':'r','RR':'y','RO':'orange','AP':'blue','TO':'magenta'}\n",
    "paletteCO = {'MT':'blue','GO':'green','MS':'black'}\n",
    "y = sns.histplot(data=full_join.query('Data_x >= 2007').query('Regiao_x==\"Norte\"'), x=\"Data_x\", hue=\"UF_x\", stat='count', alpha=1, multiple='dodge',bins=25,palette=paletteN)\n",
    "\n",
    "y.set(xlabel='Data', ylabel='Contagem de pedidos')\n",
    "plt.show()\n",
    "\n",
    "#Fazendo um histograma para Regiao Centro Oeste\n",
    "w = sns.histplot(data=full_join.query('Data_x >= 2000').query('Regiao_x==\"Centro_Oeste\"'), x=\"Data_x\", hue=\"UF_x\", stat='count', alpha=1, multiple='dodge',bins=25,palette=paletteCO)\n",
    "w.set(xlabel='Data', ylabel='Contagem de pedidos')\n",
    "plt.show()\n",
    "\n"
   ]
  },
  {
   "cell_type": "code",
   "execution_count": null,
   "id": "b9401da0",
   "metadata": {},
   "outputs": [],
   "source": [
    "#join_333_regiao.query('Data >= 20a00').query('Regiao==\"Norte\"').Data.value_counts().sum()\n",
    "full_join_2.query('Data_x >= 2000').query('Regiao_x==\"Norte\"').groupby(['UF_x'],as_index=False)['Data_x'].count()\n"
   ]
  },
  {
   "cell_type": "code",
   "execution_count": null,
   "id": "13c661cc",
   "metadata": {},
   "outputs": [],
   "source": [
    "pessoa_fisica = pessoa.query('Pessoa==\"F\"')\n",
    "pessoa_juridica = pessoa.query('Pessoa==\"J\"')\n",
    "p_fisica_only = pessoa_fisica[~pessoa_fisica['DSProcesso'].isin(pessoa_juridica['DSProcesso'])]\n",
    "juridico_certo = pessoa[ ~ pessoa['DSProcesso'].isin(p_fisica_only['DSProcesso'])]\n",
    "#Criando dummys\n",
    "p_fisica_only['Pessoa_Dummy'] = 'Pessoa Fisica'\n",
    "juridico_certo['Pessoa_Dummy'] = 'Pessoa Juridica'\n",
    "p_fisica_only.drop_duplicates('DSProcesso',keep = 'first',inplace=True)\n",
    "juridico_certo.drop_duplicates('DSProcesso',keep = 'first',inplace=True)\n",
    "pessoas_certo = pd.concat([p_fisica_only,juridico_certo])\n",
    "pessoas_certo[['DSProcesso','Pessoa_Dummy','Pessoa_NOME']]"
   ]
  },
  {
   "cell_type": "code",
   "execution_count": null,
   "id": "a2e4592a",
   "metadata": {
    "ExecuteTime": {
     "end_time": "2023-05-29T21:36:29.433574Z",
     "start_time": "2023-05-29T21:36:29.414103Z"
    }
   },
   "outputs": [],
   "source": [
    "import seaborn as sns\n",
    "import numpy as np\n",
    "import  matplotlib.pyplot as plt\n",
    "%matplotlib inline\n",
    "sns.set(rc={\"figure.figsize\":(17, 5)})\n",
    "a = pessoas_certo[['DSProcesso','Pessoa_Dummy','Pessoa_NOME']]\n",
    "b = full_join.query('Data_x >=2000').merge(a,how='inner',on='DSProcesso')\n",
    "b.drop_duplicates(\"DSProcesso\",keep='last',inplace=True)\n",
    "b_g = b.groupby(['Pessoa_Dummy'],as_index=False).Data_x.value_counts()\n",
    "b_g['Decadas'] =np.select(\n",
    "    [\n",
    "        \n",
    "        b_g['Data_x'].between(2000, 2009, inclusive=True),\n",
    "        b_g['Data_x'].between(2010, 2019, inclusive=True),\n",
    "        b_g['Data_x'].between(2020, 2023, inclusive=True)\n",
    "    ],\n",
    "    [\n",
    "        \n",
    "        'Década de 2000 - 2009',\n",
    "        'Década de 2010 - 2019',\n",
    "        'Década de 2020- 2023'\n",
    "    ]\n",
    ")\n",
    "b_g_g = b_g.groupby(['Decadas','Pessoa_Dummy'],as_index=False)['count'].sum()\n",
    "sns.barplot(data=b_g_g, x=\"Decadas\", y=\"count\", hue=\"Pessoa_Dummy\")\n",
    "plt.show()\n"
   ]
  },
  {
   "cell_type": "code",
   "execution_count": null,
   "id": "e15584dd",
   "metadata": {},
   "outputs": [],
   "source": [
    "import seaborn as sns\n",
    "import numpy as np\n",
    "import  matplotlib.pyplot as plt\n",
    "%matplotlib inline\n",
    "sns.set(rc={\"figure.figsize\":(17, 5)})\n",
    "a = pessoa[['DSProcesso','Pessoa','Pessoa_NOME']]\n",
    "b = full_join.merge(a,how='inner',on='DSProcesso')\n",
    "b.drop_duplicates(\"DSProcesso\",keep='last',inplace=True)\n",
    "\n",
    "full_join.columns"
   ]
  }
 ],
 "metadata": {
  "kernelspec": {
   "display_name": "Python 3 (ipykernel)",
   "language": "python",
   "name": "python3"
  },
  "language_info": {
   "codemirror_mode": {
    "name": "ipython",
    "version": 3
   },
   "file_extension": ".py",
   "mimetype": "text/x-python",
   "name": "python",
   "nbconvert_exporter": "python",
   "pygments_lexer": "ipython3",
   "version": "3.9.16"
  }
 },
 "nbformat": 4,
 "nbformat_minor": 5
}
